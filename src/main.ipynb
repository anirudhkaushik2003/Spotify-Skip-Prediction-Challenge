{
 "cells": [
  {
   "cell_type": "code",
   "execution_count": 1,
   "metadata": {},
   "outputs": [],
   "source": [
    "import pandas as pd\n",
    "import numpy as np\n",
    "import matplotlib.pyplot as plt\n",
    "from sklearn.model_selection import train_test_split\n",
    "import os\n",
    "\n",
    "import torch\n",
    "import torch.nn as nn\n",
    "import torch.nn.functional as F\n",
    "from torch.utils.data import Dataset, DataLoader\n",
    "import torchvision.transforms as transforms\n",
    "\n",
    "from sentence_transformers import SentenceTransformer\n",
    "device = torch.device(\"cuda\" if torch.cuda.is_available() else \"cpu\")\n",
    "\n",
    "from tqdm import tqdm\n",
    "import datetime\n",
    "from sklearn import preprocessing"
   ]
  },
  {
   "cell_type": "code",
   "execution_count": 2,
   "metadata": {},
   "outputs": [],
   "source": [
    "bert = SentenceTransformer('all-MiniLM-L6-v2', device='cuda')"
   ]
  },
  {
   "cell_type": "code",
   "execution_count": 12,
   "metadata": {},
   "outputs": [],
   "source": [
    "def read_data(path):\n",
    "    df = pd.read_csv(os.path.join(\"../data/training_set\", path))\n",
    "    session_id = df.session_id.unique()\n",
    "    # convert to map\n",
    "    session_id_map = {session_id[i]:i for i in range(len(session_id))}\n",
    "    df.session_id = df.session_id.map(session_id_map)\n",
    "\n",
    "    # skip_1 = [True, False]\n",
    "    # skip_3 = [True, False]\n",
    "    # all 4 combinations of skip_1 and skip_3\n",
    "    # skip = [(s1, s3) for s1 in skip_1 for s3 in skip_3]\n",
    "    # convert to map\n",
    "    # skip_map = {}\n",
    "    # for i in range(len(skip)):\n",
    "        # if skip[i][0]: \n",
    "            # skip_map[skip[i]] = \"played very briefly\"\n",
    "        # elif skip[i][1]:\n",
    "            # skip_map[skip[i]] = \"played till completion\" \n",
    "        # else:\n",
    "            # skip_map[skip[i]] = \"played for a moderate duration\"\n",
    "\n",
    "\n",
    "    # skip_map = {k:bert.encode(v)[0] for k, v in skip_map.items()}\n",
    "    # df[\"skip\"] = df[[\"skip_1\", \"skip_3\"]].apply(lambda x: skip_map[(x[0], x[1])], axis=1)\n",
    "    df.drop(columns=[\"skip_1\", \"skip_3\"], inplace=True)\n",
    "    # convert to vector using sentence transformer\n",
    "    # vectorize skip map\n",
    "\n",
    "    # convert date to a single integer\n",
    "    df[\"date\"] = df[\"date\"].apply(lambda x: int(x.replace(\"-\", \"\")))\n",
    "    df.drop(columns=[\"context_type\"], inplace=True)\n",
    "\n",
    "    hist_user_behavior_reason_start = df.hist_user_behavior_reason_start.unique()\n",
    "    # vectorize hist_user_behavior_reason_start\n",
    "    hist_user_behavior_reason_start_map = {i:bert.encode(i)[0] for i in hist_user_behavior_reason_start}\n",
    "    df.hist_user_behavior_reason_start = df.hist_user_behavior_reason_start.map(hist_user_behavior_reason_start_map)\n",
    "\n",
    "    hist_user_behavior_reason_end = df.hist_user_behavior_reason_end.unique()\n",
    "    # vectorize hist_user_behavior_reason_end\n",
    "    hist_user_behavior_reason_end_map = {i:bert.encode(i)[0] for i in hist_user_behavior_reason_end}\n",
    "    df.hist_user_behavior_reason_end = df.hist_user_behavior_reason_end.map(hist_user_behavior_reason_end_map)\n",
    "\n",
    "    df.drop(columns=[\"track_id_clean\"], inplace=True)\n",
    "\n",
    "    X = df.drop(columns=[\"skip_2\",])\n",
    "    y = df[\"skip_2\"]\n",
    "    X_train, X_test, y_train, y_test = train_test_split(X, y, test_size=0.1, random_state=42)\n",
    "\n",
    "    # convert y to int\n",
    "    y_train = y_train.astype(int)\n",
    "    y_test = y_test.astype(int)\n",
    "    return X_train, X_test, y_train, y_test"
   ]
  },
  {
   "cell_type": "code",
   "execution_count": 13,
   "metadata": {},
   "outputs": [],
   "source": [
    "path = \"log_0_20180715_000000000000.csv\"\n",
    "X_train, X_test, y_train, y_test = read_data(path)"
   ]
  },
  {
   "cell_type": "code",
   "execution_count": 14,
   "metadata": {},
   "outputs": [
    {
     "name": "stdout",
     "output_type": "stream",
     "text": [
      "(2691548, 16) (299061, 16) (2691548,) (299061,)\n"
     ]
    }
   ],
   "source": [
    "# normalize\n",
    "scaler = preprocessing.StandardScaler().fit(X_train)\n",
    "X_train = scaler.transform(X_train)\n",
    "X_test = scaler.transform(X_test)\n",
    "y_train = y_train.to_numpy()\n",
    "y_test = y_test.to_numpy()\n",
    "print(X_train.shape, X_test.shape, y_train.shape, y_test.shape)"
   ]
  },
  {
   "cell_type": "code",
   "execution_count": 15,
   "metadata": {},
   "outputs": [],
   "source": [
    "class Dataset(Dataset):\n",
    "    def __init__(self, X, y, transform=None):\n",
    "        self.X = X\n",
    "        self.y = y\n",
    "        self.transform = transform\n",
    "\n",
    "    def __len__(self):\n",
    "        return len(self.X)\n",
    "    \n",
    "    def __getitem__(self, idx):\n",
    "        \n",
    "        X = self.X[idx]\n",
    "        y = self.y[idx]\n",
    "        \n",
    "        X = torch.tensor(X, dtype=torch.float32)\n",
    "        y = torch.tensor(y, dtype=torch.float32).unsqueeze(0)\n",
    "        if self.transform:\n",
    "            X = self.transform(X)\n",
    "        return X, y\n",
    "    \n"
   ]
  },
  {
   "cell_type": "code",
   "execution_count": 16,
   "metadata": {},
   "outputs": [],
   "source": [
    "transform = transforms.Compose([\n",
    "    transforms.ToTensor(),\n",
    "])\n",
    "trainloader = DataLoader(Dataset(X_train, y_train), batch_size=32768, shuffle=True)\n",
    "testloader = DataLoader(Dataset(X_test, y_test), batch_size=32768, shuffle=True)"
   ]
  },
  {
   "cell_type": "code",
   "execution_count": 19,
   "metadata": {},
   "outputs": [],
   "source": [
    "# clasifier to predict skip_2\n",
    "class Classifier(nn.Module):\n",
    "    def __init__(self):\n",
    "        super(Classifier, self).__init__()\n",
    "        self.fc1 = nn.Linear(16, 64)\n",
    "        self.fc2 = nn.Linear(64, 64)\n",
    "        self.fc3 = nn.Linear(64, 1)\n",
    "        self.sigmoid = nn.Sigmoid()\n",
    "\n",
    "    def forward(self, x):\n",
    "        x = F.relu(self.fc1(x))\n",
    "        x = F.relu(self.fc2(x))\n",
    "        x = self.fc3(x)\n",
    "        x = self.sigmoid(x)\n",
    "        return x"
   ]
  },
  {
   "cell_type": "code",
   "execution_count": 20,
   "metadata": {},
   "outputs": [],
   "source": [
    "def test(model, testloader):\n",
    "    model.eval()\n",
    "    correct = 0\n",
    "    total = 0\n",
    "    with torch.no_grad():\n",
    "        for data in tqdm(testloader, desc=\"Testing\"):\n",
    "            inputs, labels = data[0].to(device), data[1].to(device)\n",
    "\n",
    "            outputs = model(inputs)\n",
    "            predicted = (outputs > 0.5).float()\n",
    "            total += labels.size(0)\n",
    "            correct += (predicted == labels).sum().item()\n",
    "\n",
    "    print('Accuracy of the network on the 10000 test images: %d %%' % (\n",
    "        100 * correct / total))\n",
    "    \n",
    "    return 100 * correct / total"
   ]
  },
  {
   "cell_type": "code",
   "execution_count": 21,
   "metadata": {},
   "outputs": [],
   "source": [
    "def train(model, trainloader, testloader, criterion, optimizer, epochs=10 ):\n",
    "    acc_curve = []\n",
    "    loss_curve = []\n",
    "    for epoch in range(epochs):\n",
    "        running_loss = 0.0\n",
    "        for i, data in tqdm(enumerate(trainloader), desc=\"Training\"):\n",
    "            inputs, labels = data[0].to(device), data[1].to(device)\n",
    "            optimizer.zero_grad()\n",
    "\n",
    "            outputs = model(inputs)\n",
    "            loss = criterion(outputs, labels)\n",
    "            loss.backward()\n",
    "            optimizer.step()\n",
    "\n",
    "            running_loss += loss.item()\n",
    "            if i %10 == 9:\n",
    "                acc = test(model, testloader)\n",
    "                print(f\"Epoch: {epoch+1}, Batch: {i+1}, Loss: {running_loss/10}, Accuracy: {acc} \")\n",
    "                acc_curve.append(acc)\n",
    "                loss_curve.append(running_loss)\n",
    "                running_loss = 0.0\n",
    "                # test\n",
    "\n",
    "    print('Finished Training')\n",
    "    return acc_curve, loss_curve"
   ]
  },
  {
   "cell_type": "code",
   "execution_count": 40,
   "metadata": {},
   "outputs": [
    {
     "name": "stdout",
     "output_type": "stream",
     "text": [
      "Let's use 4 GPUs!\n"
     ]
    },
    {
     "name": "stderr",
     "output_type": "stream",
     "text": [
      "Testing: 100%|██████████| 10/10 [00:07<00:00,  1.26it/s]\n",
      "Training: 10it [00:17,  3.38s/it]"
     ]
    },
    {
     "name": "stdout",
     "output_type": "stream",
     "text": [
      "Accuracy of the network on the 10000 test images: 83 %\n",
      "Epoch: 1, Batch: 10, Loss: 0.6619347631931305, Accuracy: 83.08472184604479 \n"
     ]
    },
    {
     "name": "stderr",
     "output_type": "stream",
     "text": [
      "Testing: 100%|██████████| 10/10 [00:07<00:00,  1.26it/s]\n",
      "Training: 20it [00:33,  3.35s/it]"
     ]
    },
    {
     "name": "stdout",
     "output_type": "stream",
     "text": [
      "Accuracy of the network on the 10000 test images: 84 %\n",
      "Epoch: 1, Batch: 20, Loss: 0.5962418854236603, Accuracy: 84.13266858600754 \n"
     ]
    },
    {
     "name": "stderr",
     "output_type": "stream",
     "text": [
      "Testing: 100%|██████████| 10/10 [00:07<00:00,  1.26it/s]\n",
      "Training: 30it [00:50,  3.33s/it]"
     ]
    },
    {
     "name": "stdout",
     "output_type": "stream",
     "text": [
      "Accuracy of the network on the 10000 test images: 85 %\n",
      "Epoch: 1, Batch: 30, Loss: 0.5147931694984436, Accuracy: 85.0963515804468 \n"
     ]
    },
    {
     "name": "stderr",
     "output_type": "stream",
     "text": [
      "Testing: 100%|██████████| 10/10 [00:08<00:00,  1.22it/s]\n",
      "Training: 40it [01:07,  3.44s/it]"
     ]
    },
    {
     "name": "stdout",
     "output_type": "stream",
     "text": [
      "Accuracy of the network on the 10000 test images: 85 %\n",
      "Epoch: 1, Batch: 40, Loss: 0.43110338449478147, Accuracy: 85.70626059566443 \n"
     ]
    },
    {
     "name": "stderr",
     "output_type": "stream",
     "text": [
      "Testing: 100%|██████████| 10/10 [00:08<00:00,  1.25it/s]\n",
      "Training: 50it [01:23,  3.37s/it]"
     ]
    },
    {
     "name": "stdout",
     "output_type": "stream",
     "text": [
      "Accuracy of the network on the 10000 test images: 85 %\n",
      "Epoch: 1, Batch: 50, Loss: 0.37081676721572876, Accuracy: 85.90153848211568 \n"
     ]
    },
    {
     "name": "stderr",
     "output_type": "stream",
     "text": [
      "Testing: 100%|██████████| 10/10 [00:08<00:00,  1.22it/s]\n",
      "Training: 60it [01:41,  3.41s/it]"
     ]
    },
    {
     "name": "stdout",
     "output_type": "stream",
     "text": [
      "Accuracy of the network on the 10000 test images: 86 %\n",
      "Epoch: 1, Batch: 60, Loss: 0.33784074783325196, Accuracy: 86.23224024530113 \n"
     ]
    },
    {
     "name": "stderr",
     "output_type": "stream",
     "text": [
      "Testing: 100%|██████████| 10/10 [00:08<00:00,  1.19it/s]\n",
      "Training: 70it [01:58,  3.45s/it]"
     ]
    },
    {
     "name": "stdout",
     "output_type": "stream",
     "text": [
      "Accuracy of the network on the 10000 test images: 86 %\n",
      "Epoch: 1, Batch: 70, Loss: 0.31971709430217743, Accuracy: 86.51044435750566 \n"
     ]
    },
    {
     "name": "stderr",
     "output_type": "stream",
     "text": [
      "Testing: 100%|██████████| 10/10 [00:08<00:00,  1.23it/s]\n",
      "Training: 80it [02:15,  3.41s/it]"
     ]
    },
    {
     "name": "stdout",
     "output_type": "stream",
     "text": [
      "Accuracy of the network on the 10000 test images: 86 %\n",
      "Epoch: 1, Batch: 80, Loss: 0.310719695687294, Accuracy: 86.7324726393612 \n"
     ]
    },
    {
     "name": "stderr",
     "output_type": "stream",
     "text": [
      "Training: 83it [02:17,  1.66s/it]\n",
      "Testing: 100%|██████████| 10/10 [00:07<00:00,  1.27it/s]\n",
      "Training: 10it [00:17,  3.37s/it]"
     ]
    },
    {
     "name": "stdout",
     "output_type": "stream",
     "text": [
      "Accuracy of the network on the 10000 test images: 86 %\n",
      "Epoch: 2, Batch: 10, Loss: 0.30415197610855105, Accuracy: 86.88628741293583 \n"
     ]
    },
    {
     "name": "stderr",
     "output_type": "stream",
     "text": [
      "Testing: 100%|██████████| 10/10 [00:07<00:00,  1.26it/s]\n",
      "Training: 20it [00:33,  3.34s/it]"
     ]
    },
    {
     "name": "stdout",
     "output_type": "stream",
     "text": [
      "Accuracy of the network on the 10000 test images: 87 %\n",
      "Epoch: 2, Batch: 20, Loss: 0.29832544922828674, Accuracy: 87.04311160599343 \n"
     ]
    },
    {
     "name": "stderr",
     "output_type": "stream",
     "text": [
      "Testing: 100%|██████████| 10/10 [00:08<00:00,  1.24it/s]\n",
      "Training: 30it [00:50,  3.38s/it]"
     ]
    },
    {
     "name": "stdout",
     "output_type": "stream",
     "text": [
      "Accuracy of the network on the 10000 test images: 87 %\n",
      "Epoch: 2, Batch: 30, Loss: 0.2940054774284363, Accuracy: 87.18923564088932 \n"
     ]
    },
    {
     "name": "stderr",
     "output_type": "stream",
     "text": [
      "Testing: 100%|██████████| 10/10 [00:08<00:00,  1.19it/s]\n",
      "Training: 40it [01:07,  3.43s/it]"
     ]
    },
    {
     "name": "stdout",
     "output_type": "stream",
     "text": [
      "Accuracy of the network on the 10000 test images: 87 %\n",
      "Epoch: 2, Batch: 40, Loss: 0.29018154740333557, Accuracy: 87.25744914917024 \n"
     ]
    },
    {
     "name": "stderr",
     "output_type": "stream",
     "text": [
      "Testing: 100%|██████████| 10/10 [00:08<00:00,  1.18it/s]\n",
      "Training: 50it [01:25,  3.50s/it]"
     ]
    },
    {
     "name": "stdout",
     "output_type": "stream",
     "text": [
      "Accuracy of the network on the 10000 test images: 87 %\n",
      "Epoch: 2, Batch: 50, Loss: 0.2849042505025864, Accuracy: 87.34037537492351 \n"
     ]
    },
    {
     "name": "stderr",
     "output_type": "stream",
     "text": [
      "Testing: 100%|██████████| 10/10 [00:07<00:00,  1.25it/s]\n",
      "Training: 60it [01:42,  3.39s/it]"
     ]
    },
    {
     "name": "stdout",
     "output_type": "stream",
     "text": [
      "Accuracy of the network on the 10000 test images: 87 %\n",
      "Epoch: 2, Batch: 60, Loss: 0.28197681307792666, Accuracy: 87.40190128435336 \n"
     ]
    },
    {
     "name": "stderr",
     "output_type": "stream",
     "text": [
      "Testing: 100%|██████████| 10/10 [00:08<00:00,  1.22it/s]\n",
      "Training: 70it [01:59,  3.41s/it]"
     ]
    },
    {
     "name": "stdout",
     "output_type": "stream",
     "text": [
      "Accuracy of the network on the 10000 test images: 87 %\n",
      "Epoch: 2, Batch: 70, Loss: 0.2762854665517807, Accuracy: 87.48248685050876 \n"
     ]
    },
    {
     "name": "stderr",
     "output_type": "stream",
     "text": [
      "Testing: 100%|██████████| 10/10 [00:08<00:00,  1.21it/s]\n",
      "Training: 80it [02:16,  3.42s/it]"
     ]
    },
    {
     "name": "stdout",
     "output_type": "stream",
     "text": [
      "Accuracy of the network on the 10000 test images: 87 %\n",
      "Epoch: 2, Batch: 80, Loss: 0.269062814116478, Accuracy: 87.57410695476842 \n"
     ]
    },
    {
     "name": "stderr",
     "output_type": "stream",
     "text": [
      "Training: 83it [02:18,  1.67s/it]\n",
      "Testing: 100%|██████████| 10/10 [00:08<00:00,  1.21it/s]\n",
      "Training: 10it [00:17,  3.40s/it]"
     ]
    },
    {
     "name": "stdout",
     "output_type": "stream",
     "text": [
      "Accuracy of the network on the 10000 test images: 87 %\n",
      "Epoch: 3, Batch: 10, Loss: 0.2639276564121246, Accuracy: 87.65034558167063 \n"
     ]
    },
    {
     "name": "stderr",
     "output_type": "stream",
     "text": [
      "Testing: 100%|██████████| 10/10 [00:08<00:00,  1.22it/s]\n",
      "Training: 20it [00:34,  3.43s/it]"
     ]
    },
    {
     "name": "stdout",
     "output_type": "stream",
     "text": [
      "Accuracy of the network on the 10000 test images: 88 %\n",
      "Epoch: 3, Batch: 20, Loss: 0.2566834032535553, Accuracy: 88.00111014140927 \n"
     ]
    },
    {
     "name": "stderr",
     "output_type": "stream",
     "text": [
      "Testing: 100%|██████████| 10/10 [00:08<00:00,  1.23it/s]\n",
      "Training: 30it [00:51,  3.47s/it]"
     ]
    },
    {
     "name": "stdout",
     "output_type": "stream",
     "text": [
      "Accuracy of the network on the 10000 test images: 88 %\n",
      "Epoch: 3, Batch: 30, Loss: 0.25062764883041383, Accuracy: 88.03989821474549 \n"
     ]
    },
    {
     "name": "stderr",
     "output_type": "stream",
     "text": [
      "Testing: 100%|██████████| 10/10 [00:08<00:00,  1.24it/s]\n",
      "Training: 40it [01:08,  3.37s/it]"
     ]
    },
    {
     "name": "stdout",
     "output_type": "stream",
     "text": [
      "Accuracy of the network on the 10000 test images: 88 %\n",
      "Epoch: 3, Batch: 40, Loss: 0.24493041187524794, Accuracy: 88.21946024389673 \n"
     ]
    },
    {
     "name": "stderr",
     "output_type": "stream",
     "text": [
      "Testing: 100%|██████████| 10/10 [00:08<00:00,  1.20it/s]\n",
      "Training: 50it [01:25,  3.46s/it]"
     ]
    },
    {
     "name": "stdout",
     "output_type": "stream",
     "text": [
      "Accuracy of the network on the 10000 test images: 88 %\n",
      "Epoch: 3, Batch: 50, Loss: 0.23742007911205293, Accuracy: 88.34685900200962 \n"
     ]
    },
    {
     "name": "stderr",
     "output_type": "stream",
     "text": [
      "Testing: 100%|██████████| 10/10 [00:08<00:00,  1.19it/s]\n",
      "Training: 60it [01:43,  3.46s/it]"
     ]
    },
    {
     "name": "stdout",
     "output_type": "stream",
     "text": [
      "Accuracy of the network on the 10000 test images: 88 %\n",
      "Epoch: 3, Batch: 60, Loss: 0.22914350032806396, Accuracy: 88.80730018290583 \n"
     ]
    },
    {
     "name": "stderr",
     "output_type": "stream",
     "text": [
      "Testing: 100%|██████████| 10/10 [00:08<00:00,  1.16it/s]\n",
      "Training: 70it [02:00,  3.55s/it]"
     ]
    },
    {
     "name": "stdout",
     "output_type": "stream",
     "text": [
      "Accuracy of the network on the 10000 test images: 89 %\n",
      "Epoch: 3, Batch: 70, Loss: 0.21916112601757048, Accuracy: 89.30519191736803 \n"
     ]
    },
    {
     "name": "stderr",
     "output_type": "stream",
     "text": [
      "Testing: 100%|██████████| 10/10 [00:08<00:00,  1.21it/s]\n",
      "Training: 80it [02:17,  3.46s/it]"
     ]
    },
    {
     "name": "stdout",
     "output_type": "stream",
     "text": [
      "Accuracy of the network on the 10000 test images: 89 %\n",
      "Epoch: 3, Batch: 80, Loss: 0.20948667973279952, Accuracy: 89.59743998715982 \n"
     ]
    },
    {
     "name": "stderr",
     "output_type": "stream",
     "text": [
      "Training: 83it [02:19,  1.68s/it]\n",
      "Testing: 100%|██████████| 10/10 [00:08<00:00,  1.21it/s]\n",
      "Training: 10it [00:17,  3.50s/it]"
     ]
    },
    {
     "name": "stdout",
     "output_type": "stream",
     "text": [
      "Accuracy of the network on the 10000 test images: 89 %\n",
      "Epoch: 4, Batch: 10, Loss: 0.1984335571527481, Accuracy: 89.96559230391124 \n"
     ]
    },
    {
     "name": "stderr",
     "output_type": "stream",
     "text": [
      "Testing: 100%|██████████| 10/10 [00:08<00:00,  1.23it/s]\n",
      "Training: 20it [00:34,  3.40s/it]"
     ]
    },
    {
     "name": "stdout",
     "output_type": "stream",
     "text": [
      "Accuracy of the network on the 10000 test images: 90 %\n",
      "Epoch: 4, Batch: 20, Loss: 0.19012366384267806, Accuracy: 90.11673203794544 \n"
     ]
    },
    {
     "name": "stderr",
     "output_type": "stream",
     "text": [
      "Testing: 100%|██████████| 10/10 [00:08<00:00,  1.18it/s]\n",
      "Training: 30it [00:51,  3.50s/it]"
     ]
    },
    {
     "name": "stdout",
     "output_type": "stream",
     "text": [
      "Accuracy of the network on the 10000 test images: 90 %\n",
      "Epoch: 4, Batch: 30, Loss: 0.18270678967237472, Accuracy: 90.23510253760938 \n"
     ]
    },
    {
     "name": "stderr",
     "output_type": "stream",
     "text": [
      "Testing: 100%|██████████| 10/10 [00:08<00:00,  1.19it/s]\n",
      "Training: 40it [01:08,  3.49s/it]"
     ]
    },
    {
     "name": "stdout",
     "output_type": "stream",
     "text": [
      "Accuracy of the network on the 10000 test images: 90 %\n",
      "Epoch: 4, Batch: 40, Loss: 0.1775936648249626, Accuracy: 90.25917789347324 \n"
     ]
    },
    {
     "name": "stderr",
     "output_type": "stream",
     "text": [
      "Testing: 100%|██████████| 10/10 [00:08<00:00,  1.13it/s]\n",
      "Training: 50it [01:26,  3.60s/it]"
     ]
    },
    {
     "name": "stdout",
     "output_type": "stream",
     "text": [
      "Accuracy of the network on the 10000 test images: 90 %\n",
      "Epoch: 4, Batch: 50, Loss: 0.17138411700725556, Accuracy: 90.35982625618185 \n"
     ]
    },
    {
     "name": "stderr",
     "output_type": "stream",
     "text": [
      "Testing: 100%|██████████| 10/10 [00:08<00:00,  1.22it/s]\n",
      "Training: 60it [01:43,  3.43s/it]"
     ]
    },
    {
     "name": "stdout",
     "output_type": "stream",
     "text": [
      "Accuracy of the network on the 10000 test images: 90 %\n",
      "Epoch: 4, Batch: 60, Loss: 0.1680678352713585, Accuracy: 90.47619047619048 \n"
     ]
    },
    {
     "name": "stderr",
     "output_type": "stream",
     "text": [
      "Testing: 100%|██████████| 10/10 [00:08<00:00,  1.24it/s]\n",
      "Training: 70it [02:00,  3.42s/it]"
     ]
    },
    {
     "name": "stdout",
     "output_type": "stream",
     "text": [
      "Accuracy of the network on the 10000 test images: 90 %\n",
      "Epoch: 4, Batch: 70, Loss: 0.1654917284846306, Accuracy: 90.41934588595637 \n"
     ]
    },
    {
     "name": "stderr",
     "output_type": "stream",
     "text": [
      "Testing: 100%|██████████| 10/10 [00:08<00:00,  1.25it/s]\n",
      "Training: 80it [02:16,  3.34s/it]"
     ]
    },
    {
     "name": "stdout",
     "output_type": "stream",
     "text": [
      "Accuracy of the network on the 10000 test images: 90 %\n",
      "Epoch: 4, Batch: 80, Loss: 0.16295808255672456, Accuracy: 90.61529253229274 \n"
     ]
    },
    {
     "name": "stderr",
     "output_type": "stream",
     "text": [
      "Training: 83it [02:18,  1.67s/it]\n",
      "Testing: 100%|██████████| 10/10 [00:08<00:00,  1.22it/s]\n",
      "Training: 10it [00:17,  3.42s/it]"
     ]
    },
    {
     "name": "stdout",
     "output_type": "stream",
     "text": [
      "Accuracy of the network on the 10000 test images: 90 %\n",
      "Epoch: 5, Batch: 10, Loss: 0.15959189236164092, Accuracy: 90.61763319189062 \n"
     ]
    },
    {
     "name": "stderr",
     "output_type": "stream",
     "text": [
      "Testing: 100%|██████████| 10/10 [00:08<00:00,  1.19it/s]\n",
      "Training: 20it [00:34,  3.42s/it]"
     ]
    },
    {
     "name": "stdout",
     "output_type": "stream",
     "text": [
      "Accuracy of the network on the 10000 test images: 90 %\n",
      "Epoch: 5, Batch: 20, Loss: 0.15915586352348327, Accuracy: 90.67548092195237 \n"
     ]
    },
    {
     "name": "stderr",
     "output_type": "stream",
     "text": [
      "Testing: 100%|██████████| 10/10 [00:08<00:00,  1.22it/s]\n",
      "Training: 30it [00:51,  3.49s/it]"
     ]
    },
    {
     "name": "stdout",
     "output_type": "stream",
     "text": [
      "Accuracy of the network on the 10000 test images: 90 %\n",
      "Epoch: 5, Batch: 30, Loss: 0.158899287879467, Accuracy: 90.65775878499704 \n"
     ]
    },
    {
     "name": "stderr",
     "output_type": "stream",
     "text": [
      "Testing: 100%|██████████| 10/10 [00:08<00:00,  1.22it/s]\n",
      "Training: 40it [01:08,  3.45s/it]"
     ]
    },
    {
     "name": "stdout",
     "output_type": "stream",
     "text": [
      "Accuracy of the network on the 10000 test images: 90 %\n",
      "Epoch: 5, Batch: 40, Loss: 0.15859759151935576, Accuracy: 90.67581530189493 \n"
     ]
    },
    {
     "name": "stderr",
     "output_type": "stream",
     "text": [
      "Testing: 100%|██████████| 10/10 [00:08<00:00,  1.22it/s]\n",
      "Training: 50it [01:26,  3.46s/it]"
     ]
    },
    {
     "name": "stdout",
     "output_type": "stream",
     "text": [
      "Accuracy of the network on the 10000 test images: 90 %\n",
      "Epoch: 5, Batch: 50, Loss: 0.15708399415016175, Accuracy: 90.75840714770565 \n"
     ]
    },
    {
     "name": "stderr",
     "output_type": "stream",
     "text": [
      "Testing: 100%|██████████| 10/10 [00:08<00:00,  1.14it/s]\n",
      "Training: 60it [01:43,  3.58s/it]"
     ]
    },
    {
     "name": "stdout",
     "output_type": "stream",
     "text": [
      "Accuracy of the network on the 10000 test images: 90 %\n",
      "Epoch: 5, Batch: 60, Loss: 0.15647746622562408, Accuracy: 90.72028783425455 \n"
     ]
    },
    {
     "name": "stderr",
     "output_type": "stream",
     "text": [
      "Testing: 100%|██████████| 10/10 [00:08<00:00,  1.17it/s]\n",
      "Training: 70it [02:00,  3.48s/it]"
     ]
    },
    {
     "name": "stdout",
     "output_type": "stream",
     "text": [
      "Accuracy of the network on the 10000 test images: 90 %\n",
      "Epoch: 5, Batch: 70, Loss: 0.15599797517061234, Accuracy: 90.69520933856303 \n"
     ]
    },
    {
     "name": "stderr",
     "output_type": "stream",
     "text": [
      "Testing: 100%|██████████| 10/10 [00:08<00:00,  1.22it/s]\n",
      "Training: 80it [02:17,  3.44s/it]"
     ]
    },
    {
     "name": "stdout",
     "output_type": "stream",
     "text": [
      "Accuracy of the network on the 10000 test images: 90 %\n",
      "Epoch: 5, Batch: 80, Loss: 0.1558242529630661, Accuracy: 90.80722661931847 \n"
     ]
    },
    {
     "name": "stderr",
     "output_type": "stream",
     "text": [
      "Training: 83it [02:20,  1.69s/it]\n",
      "Testing: 100%|██████████| 10/10 [00:08<00:00,  1.22it/s]\n",
      "Training: 10it [00:17,  3.44s/it]"
     ]
    },
    {
     "name": "stdout",
     "output_type": "stream",
     "text": [
      "Accuracy of the network on the 10000 test images: 90 %\n",
      "Epoch: 6, Batch: 10, Loss: 0.15480085462331772, Accuracy: 90.81959867719294 \n"
     ]
    },
    {
     "name": "stderr",
     "output_type": "stream",
     "text": [
      "Testing: 100%|██████████| 10/10 [00:08<00:00,  1.22it/s]\n",
      "Training: 20it [00:34,  3.43s/it]"
     ]
    },
    {
     "name": "stdout",
     "output_type": "stream",
     "text": [
      "Accuracy of the network on the 10000 test images: 90 %\n",
      "Epoch: 6, Batch: 20, Loss: 0.15429613143205642, Accuracy: 90.90453118260154 \n"
     ]
    },
    {
     "name": "stderr",
     "output_type": "stream",
     "text": [
      "Testing: 100%|██████████| 10/10 [00:08<00:00,  1.24it/s]\n",
      "Training: 30it [00:51,  3.39s/it]"
     ]
    },
    {
     "name": "stdout",
     "output_type": "stream",
     "text": [
      "Accuracy of the network on the 10000 test images: 90 %\n",
      "Epoch: 6, Batch: 30, Loss: 0.15488688945770263, Accuracy: 90.79284828178866 \n"
     ]
    },
    {
     "name": "stderr",
     "output_type": "stream",
     "text": [
      "Testing: 100%|██████████| 10/10 [00:08<00:00,  1.24it/s]\n",
      "Training: 40it [01:08,  3.38s/it]"
     ]
    },
    {
     "name": "stdout",
     "output_type": "stream",
     "text": [
      "Accuracy of the network on the 10000 test images: 90 %\n",
      "Epoch: 6, Batch: 40, Loss: 0.1546143740415573, Accuracy: 90.75974466747587 \n"
     ]
    },
    {
     "name": "stderr",
     "output_type": "stream",
     "text": [
      "Testing: 100%|██████████| 10/10 [00:08<00:00,  1.21it/s]\n",
      "Training: 50it [01:25,  3.45s/it]"
     ]
    },
    {
     "name": "stdout",
     "output_type": "stream",
     "text": [
      "Accuracy of the network on the 10000 test images: 90 %\n",
      "Epoch: 6, Batch: 50, Loss: 0.15391428470611573, Accuracy: 90.84969287202277 \n"
     ]
    },
    {
     "name": "stderr",
     "output_type": "stream",
     "text": [
      "Testing: 100%|██████████| 10/10 [00:08<00:00,  1.16it/s]\n",
      "Training: 60it [01:42,  3.49s/it]"
     ]
    },
    {
     "name": "stdout",
     "output_type": "stream",
     "text": [
      "Accuracy of the network on the 10000 test images: 90 %\n",
      "Epoch: 6, Batch: 60, Loss: 0.15274820625782012, Accuracy: 90.91957828001645 \n"
     ]
    },
    {
     "name": "stderr",
     "output_type": "stream",
     "text": [
      "Testing: 100%|██████████| 10/10 [00:08<00:00,  1.22it/s]\n",
      "Training: 70it [02:00,  3.46s/it]"
     ]
    },
    {
     "name": "stdout",
     "output_type": "stream",
     "text": [
      "Accuracy of the network on the 10000 test images: 90 %\n",
      "Epoch: 6, Batch: 70, Loss: 0.15322405844926834, Accuracy: 90.90820936196963 \n"
     ]
    },
    {
     "name": "stderr",
     "output_type": "stream",
     "text": [
      "Testing: 100%|██████████| 10/10 [00:08<00:00,  1.17it/s]\n",
      "Training: 80it [02:17,  3.52s/it]"
     ]
    },
    {
     "name": "stdout",
     "output_type": "stream",
     "text": [
      "Accuracy of the network on the 10000 test images: 90 %\n",
      "Epoch: 6, Batch: 80, Loss: 0.154167078435421, Accuracy: 90.93195033789094 \n"
     ]
    },
    {
     "name": "stderr",
     "output_type": "stream",
     "text": [
      "Training: 83it [02:19,  1.68s/it]\n",
      "Testing: 100%|██████████| 10/10 [00:08<00:00,  1.21it/s]\n",
      "Training: 10it [00:17,  3.52s/it]"
     ]
    },
    {
     "name": "stdout",
     "output_type": "stream",
     "text": [
      "Accuracy of the network on the 10000 test images: 90 %\n",
      "Epoch: 7, Batch: 10, Loss: 0.1537286475300789, Accuracy: 90.89249350466962 \n"
     ]
    },
    {
     "name": "stderr",
     "output_type": "stream",
     "text": [
      "Testing: 100%|██████████| 10/10 [00:08<00:00,  1.24it/s]\n",
      "Training: 20it [00:34,  3.40s/it]"
     ]
    },
    {
     "name": "stdout",
     "output_type": "stream",
     "text": [
      "Accuracy of the network on the 10000 test images: 90 %\n",
      "Epoch: 7, Batch: 20, Loss: 0.15243644416332244, Accuracy: 90.9536850341569 \n"
     ]
    },
    {
     "name": "stderr",
     "output_type": "stream",
     "text": [
      "Testing: 100%|██████████| 10/10 [00:08<00:00,  1.22it/s]\n",
      "Training: 30it [00:52,  3.45s/it]"
     ]
    },
    {
     "name": "stdout",
     "output_type": "stream",
     "text": [
      "Accuracy of the network on the 10000 test images: 90 %\n",
      "Epoch: 7, Batch: 30, Loss: 0.15246739387512206, Accuracy: 90.86808376886322 \n"
     ]
    },
    {
     "name": "stderr",
     "output_type": "stream",
     "text": [
      "Testing: 100%|██████████| 10/10 [00:08<00:00,  1.15it/s]\n",
      "Training: 40it [01:10,  3.53s/it]"
     ]
    },
    {
     "name": "stdout",
     "output_type": "stream",
     "text": [
      "Accuracy of the network on the 10000 test images: 90 %\n",
      "Epoch: 7, Batch: 40, Loss: 0.15212820768356322, Accuracy: 90.94599429547819 \n"
     ]
    },
    {
     "name": "stderr",
     "output_type": "stream",
     "text": [
      "Testing: 100%|██████████| 10/10 [00:08<00:00,  1.20it/s]\n",
      "Training: 50it [01:27,  3.54s/it]"
     ]
    },
    {
     "name": "stdout",
     "output_type": "stream",
     "text": [
      "Accuracy of the network on the 10000 test images: 90 %\n",
      "Epoch: 7, Batch: 50, Loss: 0.15481720566749574, Accuracy: 90.91590010064836 \n"
     ]
    },
    {
     "name": "stderr",
     "output_type": "stream",
     "text": [
      "Testing: 100%|██████████| 10/10 [00:08<00:00,  1.16it/s]\n",
      "Training: 60it [01:45,  3.56s/it]"
     ]
    },
    {
     "name": "stdout",
     "output_type": "stream",
     "text": [
      "Accuracy of the network on the 10000 test images: 90 %\n",
      "Epoch: 7, Batch: 60, Loss: 0.15280367732048034, Accuracy: 90.96304767254841 \n"
     ]
    },
    {
     "name": "stderr",
     "output_type": "stream",
     "text": [
      "Testing: 100%|██████████| 10/10 [00:08<00:00,  1.21it/s]\n",
      "Training: 70it [02:02,  3.47s/it]"
     ]
    },
    {
     "name": "stdout",
     "output_type": "stream",
     "text": [
      "Accuracy of the network on the 10000 test images: 90 %\n",
      "Epoch: 7, Batch: 70, Loss: 0.15408993810415267, Accuracy: 90.94131297628243 \n"
     ]
    },
    {
     "name": "stderr",
     "output_type": "stream",
     "text": [
      "Testing: 100%|██████████| 10/10 [00:08<00:00,  1.15it/s]\n",
      "Training: 80it [02:20,  3.56s/it]"
     ]
    },
    {
     "name": "stdout",
     "output_type": "stream",
     "text": [
      "Accuracy of the network on the 10000 test images: 90 %\n",
      "Epoch: 7, Batch: 80, Loss: 0.15366092175245286, Accuracy: 90.96070701295054 \n"
     ]
    },
    {
     "name": "stderr",
     "output_type": "stream",
     "text": [
      "Training: 83it [02:22,  1.71s/it]\n",
      "Testing: 100%|██████████| 10/10 [00:08<00:00,  1.14it/s]\n",
      "Training: 10it [00:18,  3.59s/it]"
     ]
    },
    {
     "name": "stdout",
     "output_type": "stream",
     "text": [
      "Accuracy of the network on the 10000 test images: 90 %\n",
      "Epoch: 8, Batch: 10, Loss: 0.15455220341682435, Accuracy: 90.95100999461648 \n"
     ]
    },
    {
     "name": "stderr",
     "output_type": "stream",
     "text": [
      "Testing: 100%|██████████| 10/10 [00:08<00:00,  1.23it/s]\n",
      "Training: 20it [00:35,  3.37s/it]"
     ]
    },
    {
     "name": "stdout",
     "output_type": "stream",
     "text": [
      "Accuracy of the network on the 10000 test images: 90 %\n",
      "Epoch: 8, Batch: 20, Loss: 0.15525605231523515, Accuracy: 90.96639147197395 \n"
     ]
    },
    {
     "name": "stderr",
     "output_type": "stream",
     "text": [
      "Testing: 100%|██████████| 10/10 [00:08<00:00,  1.24it/s]\n",
      "Training: 30it [00:52,  3.40s/it]"
     ]
    },
    {
     "name": "stdout",
     "output_type": "stream",
     "text": [
      "Accuracy of the network on the 10000 test images: 90 %\n",
      "Epoch: 8, Batch: 30, Loss: 0.15346936136484146, Accuracy: 90.9610413928931 \n"
     ]
    },
    {
     "name": "stderr",
     "output_type": "stream",
     "text": [
      "Testing: 100%|██████████| 10/10 [00:07<00:00,  1.26it/s]\n",
      "Training: 40it [01:09,  3.35s/it]"
     ]
    },
    {
     "name": "stdout",
     "output_type": "stream",
     "text": [
      "Accuracy of the network on the 10000 test images: 90 %\n",
      "Epoch: 8, Batch: 40, Loss: 0.1547505810856819, Accuracy: 90.957363213525 \n"
     ]
    },
    {
     "name": "stderr",
     "output_type": "stream",
     "text": [
      "Testing: 100%|██████████| 10/10 [00:08<00:00,  1.22it/s]\n",
      "Training: 50it [01:25,  3.40s/it]"
     ]
    },
    {
     "name": "stdout",
     "output_type": "stream",
     "text": [
      "Accuracy of the network on the 10000 test images: 90 %\n",
      "Epoch: 8, Batch: 50, Loss: 0.15371177941560746, Accuracy: 90.92258769949943 \n"
     ]
    },
    {
     "name": "stderr",
     "output_type": "stream",
     "text": [
      "Testing: 100%|██████████| 10/10 [00:08<00:00,  1.17it/s]\n",
      "Training: 60it [01:43,  3.48s/it]"
     ]
    },
    {
     "name": "stdout",
     "output_type": "stream",
     "text": [
      "Accuracy of the network on the 10000 test images: 90 %\n",
      "Epoch: 8, Batch: 60, Loss: 0.15337525308132172, Accuracy: 90.94231611611009 \n"
     ]
    },
    {
     "name": "stderr",
     "output_type": "stream",
     "text": [
      "Testing: 100%|██████████| 10/10 [00:08<00:00,  1.22it/s]\n",
      "Training: 70it [02:00,  3.41s/it]"
     ]
    },
    {
     "name": "stdout",
     "output_type": "stream",
     "text": [
      "Accuracy of the network on the 10000 test images: 90 %\n",
      "Epoch: 8, Batch: 70, Loss: 0.1535692945122719, Accuracy: 90.97107279116969 \n"
     ]
    },
    {
     "name": "stderr",
     "output_type": "stream",
     "text": [
      "Testing: 100%|██████████| 10/10 [00:07<00:00,  1.25it/s]\n",
      "Training: 80it [02:17,  3.36s/it]"
     ]
    },
    {
     "name": "stdout",
     "output_type": "stream",
     "text": [
      "Accuracy of the network on the 10000 test images: 90 %\n",
      "Epoch: 8, Batch: 80, Loss: 0.15258408933877946, Accuracy: 90.9961512868612 \n"
     ]
    },
    {
     "name": "stderr",
     "output_type": "stream",
     "text": [
      "Training: 83it [02:19,  1.68s/it]\n",
      "Testing: 100%|██████████| 10/10 [00:08<00:00,  1.23it/s]\n",
      "Training: 10it [00:17,  3.43s/it]"
     ]
    },
    {
     "name": "stdout",
     "output_type": "stream",
     "text": [
      "Accuracy of the network on the 10000 test images: 90 %\n",
      "Epoch: 9, Batch: 10, Loss: 0.15428033471107483, Accuracy: 90.93964107656966 \n"
     ]
    },
    {
     "name": "stderr",
     "output_type": "stream",
     "text": [
      "Testing: 100%|██████████| 10/10 [00:08<00:00,  1.22it/s]\n",
      "Training: 20it [00:34,  3.42s/it]"
     ]
    },
    {
     "name": "stdout",
     "output_type": "stream",
     "text": [
      "Accuracy of the network on the 10000 test images: 90 %\n",
      "Epoch: 9, Batch: 20, Loss: 0.15403223037719727, Accuracy: 90.92693463875263 \n"
     ]
    },
    {
     "name": "stderr",
     "output_type": "stream",
     "text": [
      "Testing: 100%|██████████| 10/10 [00:08<00:00,  1.24it/s]\n",
      "Training: 30it [00:51,  3.36s/it]"
     ]
    },
    {
     "name": "stdout",
     "output_type": "stream",
     "text": [
      "Accuracy of the network on the 10000 test images: 90 %\n",
      "Epoch: 9, Batch: 30, Loss: 0.15316273868083954, Accuracy: 90.96806337168671 \n"
     ]
    },
    {
     "name": "stderr",
     "output_type": "stream",
     "text": [
      "Testing: 100%|██████████| 10/10 [00:08<00:00,  1.24it/s]\n",
      "Training: 40it [01:08,  3.39s/it]"
     ]
    },
    {
     "name": "stdout",
     "output_type": "stream",
     "text": [
      "Accuracy of the network on the 10000 test images: 90 %\n",
      "Epoch: 9, Batch: 40, Loss: 0.153170707821846, Accuracy: 90.95502255392712 \n"
     ]
    },
    {
     "name": "stderr",
     "output_type": "stream",
     "text": [
      "Testing: 100%|██████████| 10/10 [00:08<00:00,  1.24it/s]\n",
      "Training: 50it [01:25,  3.40s/it]"
     ]
    },
    {
     "name": "stdout",
     "output_type": "stream",
     "text": [
      "Accuracy of the network on the 10000 test images: 90 %\n",
      "Epoch: 9, Batch: 50, Loss: 0.15478263944387435, Accuracy: 90.97140717111225 \n"
     ]
    },
    {
     "name": "stderr",
     "output_type": "stream",
     "text": [
      "Testing: 100%|██████████| 10/10 [00:08<00:00,  1.24it/s]\n",
      "Training: 60it [01:41,  3.36s/it]"
     ]
    },
    {
     "name": "stdout",
     "output_type": "stream",
     "text": [
      "Accuracy of the network on the 10000 test images: 90 %\n",
      "Epoch: 9, Batch: 60, Loss: 0.1516824945807457, Accuracy: 90.96772899174415 \n"
     ]
    },
    {
     "name": "stderr",
     "output_type": "stream",
     "text": [
      "Testing: 100%|██████████| 10/10 [00:08<00:00,  1.22it/s]\n",
      "Training: 70it [01:59,  3.37s/it]"
     ]
    },
    {
     "name": "stdout",
     "output_type": "stream",
     "text": [
      "Accuracy of the network on the 10000 test images: 90 %\n",
      "Epoch: 9, Batch: 70, Loss: 0.15343193411827089, Accuracy: 90.9292752983505 \n"
     ]
    },
    {
     "name": "stderr",
     "output_type": "stream",
     "text": [
      "Testing: 100%|██████████| 10/10 [00:08<00:00,  1.18it/s]\n",
      "Training: 80it [02:16,  3.45s/it]"
     ]
    },
    {
     "name": "stdout",
     "output_type": "stream",
     "text": [
      "Accuracy of the network on the 10000 test images: 90 %\n",
      "Epoch: 9, Batch: 80, Loss: 0.15309019684791564, Accuracy: 90.99280748743567 \n"
     ]
    },
    {
     "name": "stderr",
     "output_type": "stream",
     "text": [
      "Training: 83it [02:17,  1.66s/it]\n",
      "Testing: 100%|██████████| 10/10 [00:08<00:00,  1.21it/s]\n",
      "Training: 10it [00:17,  3.49s/it]"
     ]
    },
    {
     "name": "stdout",
     "output_type": "stream",
     "text": [
      "Accuracy of the network on the 10000 test images: 90 %\n",
      "Epoch: 10, Batch: 10, Loss: 0.15215302556753157, Accuracy: 90.97709163013566 \n"
     ]
    },
    {
     "name": "stderr",
     "output_type": "stream",
     "text": [
      "Testing: 100%|██████████| 10/10 [00:08<00:00,  1.23it/s]\n",
      "Training: 20it [00:34,  3.42s/it]"
     ]
    },
    {
     "name": "stdout",
     "output_type": "stream",
     "text": [
      "Accuracy of the network on the 10000 test images: 90 %\n",
      "Epoch: 10, Batch: 20, Loss: 0.15326287150382994, Accuracy: 90.9817729493314 \n"
     ]
    },
    {
     "name": "stderr",
     "output_type": "stream",
     "text": [
      "Testing: 100%|██████████| 10/10 [00:08<00:00,  1.23it/s]\n",
      "Training: 30it [00:51,  3.44s/it]"
     ]
    },
    {
     "name": "stdout",
     "output_type": "stream",
     "text": [
      "Accuracy of the network on the 10000 test images: 90 %\n",
      "Epoch: 10, Batch: 30, Loss: 0.1533356562256813, Accuracy: 90.96338205249096 \n"
     ]
    },
    {
     "name": "stderr",
     "output_type": "stream",
     "text": [
      "Testing: 100%|██████████| 10/10 [00:08<00:00,  1.15it/s]\n",
      "Training: 40it [01:09,  3.58s/it]"
     ]
    },
    {
     "name": "stdout",
     "output_type": "stream",
     "text": [
      "Accuracy of the network on the 10000 test images: 90 %\n",
      "Epoch: 10, Batch: 40, Loss: 0.1530451402068138, Accuracy: 90.96605709203139 \n"
     ]
    },
    {
     "name": "stderr",
     "output_type": "stream",
     "text": [
      "Testing: 100%|██████████| 10/10 [00:08<00:00,  1.17it/s]\n",
      "Training: 50it [01:26,  3.51s/it]"
     ]
    },
    {
     "name": "stdout",
     "output_type": "stream",
     "text": [
      "Accuracy of the network on the 10000 test images: 90 %\n",
      "Epoch: 10, Batch: 50, Loss: 0.15155445486307145, Accuracy: 90.95468817398458 \n"
     ]
    },
    {
     "name": "stderr",
     "output_type": "stream",
     "text": [
      "Testing: 100%|██████████| 10/10 [00:08<00:00,  1.21it/s]\n",
      "Training: 60it [01:44,  3.48s/it]"
     ]
    },
    {
     "name": "stdout",
     "output_type": "stream",
     "text": [
      "Accuracy of the network on the 10000 test images: 90 %\n",
      "Epoch: 10, Batch: 60, Loss: 0.15079046040773392, Accuracy: 90.96906651151437 \n"
     ]
    },
    {
     "name": "stderr",
     "output_type": "stream",
     "text": [
      "Testing: 100%|██████████| 10/10 [00:08<00:00,  1.23it/s]\n",
      "Training: 70it [02:01,  3.45s/it]"
     ]
    },
    {
     "name": "stdout",
     "output_type": "stream",
     "text": [
      "Accuracy of the network on the 10000 test images: 91 %\n",
      "Epoch: 10, Batch: 70, Loss: 0.1510421171784401, Accuracy: 91.01521094358677 \n"
     ]
    },
    {
     "name": "stderr",
     "output_type": "stream",
     "text": [
      "Testing: 100%|██████████| 10/10 [00:08<00:00,  1.23it/s]\n",
      "Training: 80it [02:19,  3.43s/it]"
     ]
    },
    {
     "name": "stdout",
     "output_type": "stream",
     "text": [
      "Accuracy of the network on the 10000 test images: 91 %\n",
      "Epoch: 10, Batch: 80, Loss: 0.15148136019706726, Accuracy: 91.04530513841658 \n"
     ]
    },
    {
     "name": "stderr",
     "output_type": "stream",
     "text": [
      "Training: 83it [02:21,  1.70s/it]\n"
     ]
    },
    {
     "name": "stdout",
     "output_type": "stream",
     "text": [
      "Finished Training\n"
     ]
    },
    {
     "data": {
      "image/png": "[encoded data removed]",
      "text/plain": [
       "<Figure size 640x480 with 2 Axes>"
      ]
     },
     "metadata": {},
     "output_type": "display_data"
    }
   ],
   "source": [
    "\n",
    "        \n",
    "model = Classifier()\n",
    "criterion = nn.BCELoss()\n",
    "optimizer = torch.optim.Adam(model.parameters(), lr=0.001)\n",
    "\n",
    "model = model.to(device)\n",
    "if torch.cuda.device_count() > 1:\n",
    "    print(\"Let's use\", torch.cuda.device_count(), \"GPUs!\")\n",
    "    model = nn.DataParallel(model)\n",
    "\n",
    "acc_curve, loss_curve = train(model, trainloader, testloader, criterion, optimizer, epochs=10)\n",
    "plt.subplot(2,1,1)\n",
    "plt.title(\"Loss Curve\")\n",
    "plt.plot(loss_curve)\n",
    "plt.subplot(2,1,2)\n",
    "plt.title(\"Accuracy Curve\")\n",
    "plt.plot(acc_curve)\n",
    "plt.show()"
   ]
  },
  {
   "cell_type": "code",
   "execution_count": 22,
   "metadata": {},
   "outputs": [
    {
     "name": "stdout",
     "output_type": "stream",
     "text": [
      "Let's use 4 GPUs!\n"
     ]
    },
    {
     "name": "stderr",
     "output_type": "stream",
     "text": [
      "Testing: 100%|██████████| 10/10 [00:10<00:00,  1.02s/it]\n",
      "Training: 10it [00:21,  4.03s/it]"
     ]
    },
    {
     "name": "stdout",
     "output_type": "stream",
     "text": [
      "Accuracy of the network on the 10000 test images: 79 %\n",
      "Epoch: 1, Batch: 10, Loss: 0.6666250407695771, Accuracy: 79.44365865157944 \n"
     ]
    },
    {
     "name": "stderr",
     "output_type": "stream",
     "text": [
      "Testing: 100%|██████████| 10/10 [00:07<00:00,  1.29it/s]\n",
      "Training: 20it [00:37,  3.25s/it]"
     ]
    },
    {
     "name": "stdout",
     "output_type": "stream",
     "text": [
      "Accuracy of the network on the 10000 test images: 81 %\n",
      "Epoch: 1, Batch: 20, Loss: 0.6102488994598388, Accuracy: 81.99397447343519 \n"
     ]
    },
    {
     "name": "stderr",
     "output_type": "stream",
     "text": [
      "Testing: 100%|██████████| 10/10 [00:07<00:00,  1.29it/s]\n",
      "Training: 30it [00:53,  3.20s/it]"
     ]
    },
    {
     "name": "stdout",
     "output_type": "stream",
     "text": [
      "Accuracy of the network on the 10000 test images: 83 %\n",
      "Epoch: 1, Batch: 30, Loss: 0.5357851684093475, Accuracy: 83.45922738170474 \n"
     ]
    },
    {
     "name": "stderr",
     "output_type": "stream",
     "text": [
      "Testing: 100%|██████████| 10/10 [00:07<00:00,  1.31it/s]\n",
      "Training: 40it [01:09,  3.20s/it]"
     ]
    },
    {
     "name": "stdout",
     "output_type": "stream",
     "text": [
      "Accuracy of the network on the 10000 test images: 84 %\n",
      "Epoch: 1, Batch: 40, Loss: 0.4538654088973999, Accuracy: 84.41455087758015 \n"
     ]
    },
    {
     "name": "stderr",
     "output_type": "stream",
     "text": [
      "Testing: 100%|██████████| 10/10 [00:07<00:00,  1.30it/s]\n",
      "Training: 50it [01:25,  3.22s/it]"
     ]
    },
    {
     "name": "stdout",
     "output_type": "stream",
     "text": [
      "Accuracy of the network on the 10000 test images: 84 %\n",
      "Epoch: 1, Batch: 50, Loss: 0.3923276484012604, Accuracy: 84.79741591180395 \n"
     ]
    },
    {
     "name": "stderr",
     "output_type": "stream",
     "text": [
      "Testing: 100%|██████████| 10/10 [00:07<00:00,  1.31it/s]\n",
      "Training: 60it [01:41,  3.20s/it]"
     ]
    },
    {
     "name": "stdout",
     "output_type": "stream",
     "text": [
      "Accuracy of the network on the 10000 test images: 84 %\n",
      "Epoch: 1, Batch: 60, Loss: 0.35694813430309297, Accuracy: 84.98032174038073 \n"
     ]
    },
    {
     "name": "stderr",
     "output_type": "stream",
     "text": [
      "Testing: 100%|██████████| 10/10 [00:10<00:00,  1.01s/it]\n",
      "Training: 70it [01:59,  3.92s/it]"
     ]
    },
    {
     "name": "stdout",
     "output_type": "stream",
     "text": [
      "Accuracy of the network on the 10000 test images: 85 %\n",
      "Epoch: 1, Batch: 70, Loss: 0.3346393764019012, Accuracy: 85.59691835444943 \n"
     ]
    },
    {
     "name": "stderr",
     "output_type": "stream",
     "text": [
      "Testing: 100%|██████████| 10/10 [00:10<00:00,  1.03s/it]\n",
      "Training: 80it [02:21,  4.27s/it]"
     ]
    },
    {
     "name": "stdout",
     "output_type": "stream",
     "text": [
      "Accuracy of the network on the 10000 test images: 85 %\n",
      "Epoch: 1, Batch: 80, Loss: 0.319992384314537, Accuracy: 85.7417048695751 \n"
     ]
    },
    {
     "name": "stderr",
     "output_type": "stream",
     "text": [
      "Training: 83it [02:23,  1.73s/it]\n",
      "Testing: 100%|██████████| 10/10 [00:08<00:00,  1.18it/s]\n",
      "Training: 10it [00:19,  3.76s/it]"
     ]
    },
    {
     "name": "stdout",
     "output_type": "stream",
     "text": [
      "Accuracy of the network on the 10000 test images: 85 %\n",
      "Epoch: 2, Batch: 10, Loss: 0.31013441979885104, Accuracy: 85.8560628099284 \n"
     ]
    },
    {
     "name": "stderr",
     "output_type": "stream",
     "text": [
      "Testing: 100%|██████████| 10/10 [00:07<00:00,  1.30it/s]\n",
      "Training: 20it [00:35,  3.22s/it]"
     ]
    },
    {
     "name": "stdout",
     "output_type": "stream",
     "text": [
      "Accuracy of the network on the 10000 test images: 85 %\n",
      "Epoch: 2, Batch: 20, Loss: 0.30765860080718993, Accuracy: 85.8935133634944 \n"
     ]
    },
    {
     "name": "stderr",
     "output_type": "stream",
     "text": [
      "Testing: 100%|██████████| 10/10 [00:07<00:00,  1.32it/s]\n",
      "Training: 30it [00:51,  3.15s/it]"
     ]
    },
    {
     "name": "stdout",
     "output_type": "stream",
     "text": [
      "Accuracy of the network on the 10000 test images: 85 %\n",
      "Epoch: 2, Batch: 30, Loss: 0.30425259172916413, Accuracy: 85.96573943108596 \n"
     ]
    },
    {
     "name": "stderr",
     "output_type": "stream",
     "text": [
      "Testing: 100%|██████████| 10/10 [00:07<00:00,  1.35it/s]\n",
      "Training: 40it [01:07,  3.13s/it]"
     ]
    },
    {
     "name": "stdout",
     "output_type": "stream",
     "text": [
      "Accuracy of the network on the 10000 test images: 86 %\n",
      "Epoch: 2, Batch: 40, Loss: 0.30083933770656585, Accuracy: 86.04298119781583 \n"
     ]
    },
    {
     "name": "stderr",
     "output_type": "stream",
     "text": [
      "Testing: 100%|██████████| 10/10 [00:07<00:00,  1.36it/s]\n",
      "Training: 50it [01:22,  3.11s/it]"
     ]
    },
    {
     "name": "stdout",
     "output_type": "stream",
     "text": [
      "Accuracy of the network on the 10000 test images: 86 %\n",
      "Epoch: 2, Batch: 50, Loss: 0.29953076839447024, Accuracy: 86.06505027402436 \n"
     ]
    },
    {
     "name": "stderr",
     "output_type": "stream",
     "text": [
      "Testing: 100%|██████████| 10/10 [00:07<00:00,  1.36it/s]\n",
      "Training: 60it [01:38,  3.12s/it]"
     ]
    },
    {
     "name": "stdout",
     "output_type": "stream",
     "text": [
      "Accuracy of the network on the 10000 test images: 86 %\n",
      "Epoch: 2, Batch: 60, Loss: 0.29795044362545015, Accuracy: 86.08845687000311 \n"
     ]
    },
    {
     "name": "stderr",
     "output_type": "stream",
     "text": [
      "Testing: 100%|██████████| 10/10 [00:07<00:00,  1.33it/s]\n",
      "Training: 70it [01:54,  3.12s/it]"
     ]
    },
    {
     "name": "stdout",
     "output_type": "stream",
     "text": [
      "Accuracy of the network on the 10000 test images: 86 %\n",
      "Epoch: 2, Batch: 70, Loss: 0.29639445543289183, Accuracy: 86.15800789805424 \n"
     ]
    },
    {
     "name": "stderr",
     "output_type": "stream",
     "text": [
      "Testing: 100%|██████████| 10/10 [00:10<00:00,  1.03s/it]\n",
      "Training: 80it [02:15,  4.23s/it]"
     ]
    },
    {
     "name": "stdout",
     "output_type": "stream",
     "text": [
      "Accuracy of the network on the 10000 test images: 86 %\n",
      "Epoch: 2, Batch: 80, Loss: 0.295773383975029, Accuracy: 86.15566723845637 \n"
     ]
    },
    {
     "name": "stderr",
     "output_type": "stream",
     "text": [
      "Training: 83it [02:17,  1.66s/it]\n",
      "Testing: 100%|██████████| 10/10 [00:09<00:00,  1.01it/s]\n",
      "Training: 10it [00:21,  4.18s/it]"
     ]
    },
    {
     "name": "stdout",
     "output_type": "stream",
     "text": [
      "Accuracy of the network on the 10000 test images: 86 %\n",
      "Epoch: 3, Batch: 10, Loss: 0.2942156344652176, Accuracy: 86.22555264645005 \n"
     ]
    },
    {
     "name": "stderr",
     "output_type": "stream",
     "text": [
      "Testing: 100%|██████████| 10/10 [00:10<00:00,  1.01s/it]\n",
      "Training: 20it [00:42,  4.22s/it]"
     ]
    },
    {
     "name": "stdout",
     "output_type": "stream",
     "text": [
      "Accuracy of the network on the 10000 test images: 86 %\n",
      "Epoch: 3, Batch: 20, Loss: 0.2925096482038498, Accuracy: 86.26300320001604 \n"
     ]
    },
    {
     "name": "stderr",
     "output_type": "stream",
     "text": [
      "Testing: 100%|██████████| 10/10 [00:07<00:00,  1.32it/s]\n",
      "Training: 30it [00:58,  3.17s/it]"
     ]
    },
    {
     "name": "stdout",
     "output_type": "stream",
     "text": [
      "Accuracy of the network on the 10000 test images: 86 %\n",
      "Epoch: 3, Batch: 30, Loss: 0.29236961007118223, Accuracy: 86.27704715760329 \n"
     ]
    },
    {
     "name": "stderr",
     "output_type": "stream",
     "text": [
      "Testing: 100%|██████████| 10/10 [00:07<00:00,  1.35it/s]\n",
      "Training: 40it [01:13,  3.13s/it]"
     ]
    },
    {
     "name": "stdout",
     "output_type": "stream",
     "text": [
      "Accuracy of the network on the 10000 test images: 86 %\n",
      "Epoch: 3, Batch: 40, Loss: 0.29195297360420225, Accuracy: 86.31148829168632 \n"
     ]
    },
    {
     "name": "stderr",
     "output_type": "stream",
     "text": [
      "Testing: 100%|██████████| 10/10 [00:07<00:00,  1.34it/s]\n",
      "Training: 50it [01:29,  3.14s/it]"
     ]
    },
    {
     "name": "stdout",
     "output_type": "stream",
     "text": [
      "Accuracy of the network on the 10000 test images: 86 %\n",
      "Epoch: 3, Batch: 50, Loss: 0.28976616859436033, Accuracy: 86.38371435927787 \n"
     ]
    },
    {
     "name": "stderr",
     "output_type": "stream",
     "text": [
      "Testing: 100%|██████████| 10/10 [00:07<00:00,  1.35it/s]\n",
      "Training: 60it [01:45,  3.13s/it]"
     ]
    },
    {
     "name": "stdout",
     "output_type": "stream",
     "text": [
      "Accuracy of the network on the 10000 test images: 86 %\n",
      "Epoch: 3, Batch: 60, Loss: 0.28951879739761355, Accuracy: 86.41982739307366 \n"
     ]
    },
    {
     "name": "stderr",
     "output_type": "stream",
     "text": [
      "Testing: 100%|██████████| 10/10 [00:07<00:00,  1.35it/s]\n",
      "Training: 70it [02:00,  3.11s/it]"
     ]
    },
    {
     "name": "stdout",
     "output_type": "stream",
     "text": [
      "Accuracy of the network on the 10000 test images: 86 %\n",
      "Epoch: 3, Batch: 70, Loss: 0.2882929056882858, Accuracy: 86.41481169393535 \n"
     ]
    },
    {
     "name": "stderr",
     "output_type": "stream",
     "text": [
      "Testing: 100%|██████████| 10/10 [00:07<00:00,  1.31it/s]\n",
      "Training: 80it [02:16,  3.16s/it]"
     ]
    },
    {
     "name": "stdout",
     "output_type": "stream",
     "text": [
      "Accuracy of the network on the 10000 test images: 86 %\n",
      "Epoch: 3, Batch: 80, Loss: 0.28778892755508423, Accuracy: 86.46797810480136 \n"
     ]
    },
    {
     "name": "stderr",
     "output_type": "stream",
     "text": [
      "Training: 83it [02:18,  1.67s/it]\n",
      "Testing: 100%|██████████| 10/10 [00:07<00:00,  1.35it/s]\n",
      "Training: 10it [00:15,  3.11s/it]"
     ]
    },
    {
     "name": "stdout",
     "output_type": "stream",
     "text": [
      "Accuracy of the network on the 10000 test images: 86 %\n",
      "Epoch: 4, Batch: 10, Loss: 0.28799318671226504, Accuracy: 86.45560604692687 \n"
     ]
    },
    {
     "name": "stderr",
     "output_type": "stream",
     "text": [
      "Testing: 100%|██████████| 10/10 [00:07<00:00,  1.31it/s]\n",
      "Training: 20it [00:31,  3.17s/it]"
     ]
    },
    {
     "name": "stdout",
     "output_type": "stream",
     "text": [
      "Accuracy of the network on the 10000 test images: 86 %\n",
      "Epoch: 4, Batch: 20, Loss: 0.28741379976272585, Accuracy: 86.46931562457158 \n"
     ]
    },
    {
     "name": "stderr",
     "output_type": "stream",
     "text": [
      "Testing: 100%|██████████| 10/10 [00:07<00:00,  1.29it/s]\n",
      "Training: 30it [00:47,  3.20s/it]"
     ]
    },
    {
     "name": "stdout",
     "output_type": "stream",
     "text": [
      "Accuracy of the network on the 10000 test images: 86 %\n",
      "Epoch: 4, Batch: 30, Loss: 0.2876921147108078, Accuracy: 86.49238784060776 \n"
     ]
    },
    {
     "name": "stderr",
     "output_type": "stream",
     "text": [
      "Testing: 100%|██████████| 10/10 [00:07<00:00,  1.35it/s]\n",
      "Training: 40it [01:03,  3.14s/it]"
     ]
    },
    {
     "name": "stdout",
     "output_type": "stream",
     "text": [
      "Accuracy of the network on the 10000 test images: 86 %\n",
      "Epoch: 4, Batch: 40, Loss: 0.2868274420499802, Accuracy: 86.55491688986528 \n"
     ]
    },
    {
     "name": "stderr",
     "output_type": "stream",
     "text": [
      "Testing: 100%|██████████| 10/10 [00:07<00:00,  1.35it/s]\n",
      "Training: 50it [01:18,  3.12s/it]"
     ]
    },
    {
     "name": "stdout",
     "output_type": "stream",
     "text": [
      "Accuracy of the network on the 10000 test images: 86 %\n",
      "Epoch: 4, Batch: 50, Loss: 0.28760862052440644, Accuracy: 86.5381978927376 \n"
     ]
    },
    {
     "name": "stderr",
     "output_type": "stream",
     "text": [
      "Testing: 100%|██████████| 10/10 [00:07<00:00,  1.34it/s]\n",
      "Training: 60it [01:34,  3.14s/it]"
     ]
    },
    {
     "name": "stdout",
     "output_type": "stream",
     "text": [
      "Accuracy of the network on the 10000 test images: 86 %\n",
      "Epoch: 4, Batch: 60, Loss: 0.28738622963428495, Accuracy: 86.56093572883124 \n"
     ]
    },
    {
     "name": "stderr",
     "output_type": "stream",
     "text": [
      "Testing: 100%|██████████| 10/10 [00:07<00:00,  1.35it/s]\n",
      "Training: 70it [01:50,  3.10s/it]"
     ]
    },
    {
     "name": "stdout",
     "output_type": "stream",
     "text": [
      "Accuracy of the network on the 10000 test images: 86 %\n",
      "Epoch: 4, Batch: 70, Loss: 0.2843509703874588, Accuracy: 86.56662018785465 \n"
     ]
    },
    {
     "name": "stderr",
     "output_type": "stream",
     "text": [
      "Testing: 100%|██████████| 10/10 [00:07<00:00,  1.32it/s]\n",
      "Training: 80it [02:05,  3.15s/it]"
     ]
    },
    {
     "name": "stdout",
     "output_type": "stream",
     "text": [
      "Accuracy of the network on the 10000 test images: 86 %\n",
      "Epoch: 4, Batch: 80, Loss: 0.28732503950595856, Accuracy: 86.55658878957804 \n"
     ]
    },
    {
     "name": "stderr",
     "output_type": "stream",
     "text": [
      "Training: 83it [02:07,  1.54s/it]\n",
      "Testing: 100%|██████████| 10/10 [00:07<00:00,  1.34it/s]\n",
      "Training: 10it [00:15,  3.15s/it]"
     ]
    },
    {
     "name": "stdout",
     "output_type": "stream",
     "text": [
      "Accuracy of the network on the 10000 test images: 86 %\n",
      "Epoch: 5, Batch: 10, Loss: 0.2841792494058609, Accuracy: 86.61778031906535 \n"
     ]
    },
    {
     "name": "stderr",
     "output_type": "stream",
     "text": [
      "Testing: 100%|██████████| 10/10 [00:07<00:00,  1.32it/s]\n",
      "Training: 20it [00:31,  3.16s/it]"
     ]
    },
    {
     "name": "stdout",
     "output_type": "stream",
     "text": [
      "Accuracy of the network on the 10000 test images: 86 %\n",
      "Epoch: 5, Batch: 20, Loss: 0.2844283789396286, Accuracy: 86.5806641454419 \n"
     ]
    },
    {
     "name": "stderr",
     "output_type": "stream",
     "text": [
      "Testing: 100%|██████████| 10/10 [00:07<00:00,  1.31it/s]\n",
      "Training: 30it [00:47,  3.15s/it]"
     ]
    },
    {
     "name": "stdout",
     "output_type": "stream",
     "text": [
      "Accuracy of the network on the 10000 test images: 86 %\n",
      "Epoch: 5, Batch: 30, Loss: 0.2858804315328598, Accuracy: 86.62680857751428 \n"
     ]
    },
    {
     "name": "stderr",
     "output_type": "stream",
     "text": [
      "Testing: 100%|██████████| 10/10 [00:07<00:00,  1.34it/s]\n",
      "Training: 40it [01:03,  3.15s/it]"
     ]
    },
    {
     "name": "stdout",
     "output_type": "stream",
     "text": [
      "Accuracy of the network on the 10000 test images: 86 %\n",
      "Epoch: 5, Batch: 40, Loss: 0.28595752716064454, Accuracy: 86.64553385429728 \n"
     ]
    },
    {
     "name": "stderr",
     "output_type": "stream",
     "text": [
      "Testing: 100%|██████████| 10/10 [00:07<00:00,  1.34it/s]\n",
      "Training: 50it [01:18,  3.14s/it]"
     ]
    },
    {
     "name": "stdout",
     "output_type": "stream",
     "text": [
      "Accuracy of the network on the 10000 test images: 86 %\n",
      "Epoch: 5, Batch: 50, Loss: 0.28509207665920255, Accuracy: 86.59303620331637 \n"
     ]
    },
    {
     "name": "stderr",
     "output_type": "stream",
     "text": [
      "Testing: 100%|██████████| 10/10 [00:07<00:00,  1.34it/s]\n",
      "Training: 60it [01:34,  3.16s/it]"
     ]
    },
    {
     "name": "stdout",
     "output_type": "stream",
     "text": [
      "Accuracy of the network on the 10000 test images: 86 %\n",
      "Epoch: 5, Batch: 60, Loss: 0.2841173380613327, Accuracy: 86.64519947435473 \n"
     ]
    },
    {
     "name": "stderr",
     "output_type": "stream",
     "text": [
      "Testing: 100%|██████████| 10/10 [00:07<00:00,  1.35it/s]\n",
      "Training: 70it [01:50,  3.11s/it]"
     ]
    },
    {
     "name": "stdout",
     "output_type": "stream",
     "text": [
      "Accuracy of the network on the 10000 test images: 86 %\n",
      "Epoch: 5, Batch: 70, Loss: 0.28602745234966276, Accuracy: 86.61945221877811 \n"
     ]
    },
    {
     "name": "stderr",
     "output_type": "stream",
     "text": [
      "Testing: 100%|██████████| 10/10 [00:07<00:00,  1.33it/s]\n",
      "Training: 80it [02:06,  3.14s/it]"
     ]
    },
    {
     "name": "stdout",
     "output_type": "stream",
     "text": [
      "Accuracy of the network on the 10000 test images: 86 %\n",
      "Epoch: 5, Batch: 80, Loss: 0.28557078540325165, Accuracy: 86.67295300958668 \n"
     ]
    },
    {
     "name": "stderr",
     "output_type": "stream",
     "text": [
      "Training: 83it [02:07,  1.54s/it]\n"
     ]
    },
    {
     "name": "stdout",
     "output_type": "stream",
     "text": [
      "Finished Training\n"
     ]
    },
    {
     "data": {
      "image/png": "[encoded data removed]",
      "text/plain": [
       "<Figure size 640x480 with 2 Axes>"
      ]
     },
     "metadata": {},
     "output_type": "display_data"
    }
   ],
   "source": [
    "model = Classifier()\n",
    "criterion = nn.BCELoss()\n",
    "optimizer = torch.optim.Adam(model.parameters(), lr=0.001)\n",
    "\n",
    "model = model.to(device)\n",
    "if torch.cuda.device_count() > 1:\n",
    "    print(\"Let's use\", torch.cuda.device_count(), \"GPUs!\")\n",
    "    model = nn.DataParallel(model)\n",
    "\n",
    "acc_curve, loss_curve = train(model, trainloader, testloader, criterion, optimizer, epochs=5)\n",
    "plt.subplot(2,1,1)\n",
    "plt.title(\"Loss Curve\")\n",
    "plt.plot(loss_curve)\n",
    "plt.subplot(2,1,2)\n",
    "plt.title(\"Accuracy Curve\")\n",
    "plt.plot(acc_curve)\n",
    "plt.show()"
   ]
  }
 ],
 "metadata": {
  "kernelspec": {
   "display_name": "pytorch",
   "language": "python",
   "name": "python3"
  },
  "language_info": {
   "codemirror_mode": {
    "name": "ipython",
    "version": 3
   },
   "file_extension": ".py",
   "mimetype": "text/x-python",
   "name": "python",
   "nbconvert_exporter": "python",
   "pygments_lexer": "ipython3",
   "version": "3.10.9"
  },
  "orig_nbformat": 4
 },
 "nbformat": 4,
 "nbformat_minor": 2
}
