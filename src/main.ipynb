{
 "cells": [
  {
   "cell_type": "code",
   "execution_count": 1,
   "metadata": {},
   "outputs": [],
   "source": [
    "import pandas as pd\n",
    "import numpy as np\n",
    "import matplotlib.pyplot as plt\n",
    "from sklearn.model_selection import train_test_split\n",
    "import os\n",
    "\n",
    "import torch\n",
    "import torch.nn as nn\n",
    "import torch.nn.functional as F\n",
    "from torch.utils.data import Dataset, DataLoader\n",
    "import torchvision.transforms as transforms\n",
    "\n",
    "from sentence_transformers import SentenceTransformer\n",
    "device = torch.device(\"cuda\" if torch.cuda.is_available() else \"cpu\")\n",
    "\n",
    "from tqdm import tqdm\n",
    "import datetime\n",
    "from sklearn import preprocessing"
   ]
  },
  {
   "cell_type": "code",
   "execution_count": 2,
   "metadata": {},
   "outputs": [],
   "source": [
    "bert = SentenceTransformer('all-MiniLM-L6-v2', device='cuda')"
   ]
  },
  {
   "cell_type": "code",
   "execution_count": 41,
   "metadata": {},
   "outputs": [],
   "source": [
    "def read_data(path):\n",
    "    df = pd.read_csv(os.path.join(\"../data/training_set\", path))\n",
    "    session_id = df.session_id.unique()\n",
    "    # convert to map\n",
    "    session_id_map = {session_id[i]:i for i in range(len(session_id))}\n",
    "    df.session_id = df.session_id.map(session_id_map)\n",
    "\n",
    "    # skip_1 = [True, False]\n",
    "    # skip_3 = [True, False]\n",
    "    # all 4 combinations of skip_1 and skip_3\n",
    "    # skip = [(s1, s3) for s1 in skip_1 for s3 in skip_3]\n",
    "    # convert to map\n",
    "    # skip_map = {}\n",
    "    # for i in range(len(skip)):\n",
    "        # if skip[i][0]: \n",
    "            # skip_map[skip[i]] = \"played very briefly\"\n",
    "        # elif skip[i][1]:\n",
    "            # skip_map[skip[i]] = \"played till completion\" \n",
    "        # else:\n",
    "            # skip_map[skip[i]] = \"played for a moderate duration\"\n",
    "\n",
    "\n",
    "    # skip_map = {k:bert.encode(v)[0] for k, v in skip_map.items()}\n",
    "    # df[\"skip\"] = df[[\"skip_1\", \"skip_3\"]].apply(lambda x: skip_map[(x[0], x[1])], axis=1)\n",
    "    df.drop(columns=[\"skip_1\", \"skip_3\"], inplace=True)\n",
    "    # convert to vector using sentence transformer\n",
    "    # vectorize skip map\n",
    "\n",
    "    # convert date to a single integer\n",
    "    df[\"date\"] = df[\"date\"].apply(lambda x: int(x.replace(\"-\", \"\")))\n",
    "    df.drop(columns=[\"context_type\"], inplace=True)\n",
    "\n",
    "    hist_user_behavior_reason_start = df.hist_user_behavior_reason_start.unique()\n",
    "    # vectorize hist_user_behavior_reason_start\n",
    "    hist_user_behavior_reason_start_map = {i:bert.encode(i)[0] for i in hist_user_behavior_reason_start}\n",
    "    df.hist_user_behavior_reason_start = df.hist_user_behavior_reason_start.map(hist_user_behavior_reason_start_map)\n",
    "\n",
    "    hist_user_behavior_reason_end = df.hist_user_behavior_reason_end.unique()\n",
    "    # vectorize hist_user_behavior_reason_end\n",
    "    hist_user_behavior_reason_end_map = {i:bert.encode(i)[0] for i in hist_user_behavior_reason_end}\n",
    "    df.hist_user_behavior_reason_end = df.hist_user_behavior_reason_end.map(hist_user_behavior_reason_end_map)\n",
    "\n",
    "    df.drop(columns=[\"track_id_clean\"], inplace=True)\n",
    "\n",
    "    X = df.drop(columns=[\"skip_2\",])\n",
    "    y = df[\"skip_2\"]\n",
    "    X_train, X_test, y_train, y_test = train_test_split(X, y, test_size=0.1, random_state=42)\n",
    "\n",
    "    # convert y to int\n",
    "    y_train = y_train.astype(int)\n",
    "    y_test = y_test.astype(int)\n",
    "    return X_train, X_test, y_train, y_test"
   ]
  },
  {
   "cell_type": "code",
   "execution_count": 42,
   "metadata": {},
   "outputs": [],
   "source": [
    "path = \"log_0_20180715_000000000000.csv\"\n",
    "X_train, X_test, y_train, y_test = read_data(path)"
   ]
  },
  {
   "cell_type": "code",
   "execution_count": 43,
   "metadata": {},
   "outputs": [],
   "source": [
    "# normalize\n",
    "scaler = preprocessing.StandardScaler().fit(X_train)\n",
    "X_train = scaler.transform(X_train)\n",
    "X_test = scaler.transform(X_test)\n",
    "y_train = y_train.to_numpy()\n",
    "y_test = y_test.to_numpy()"
   ]
  },
  {
   "cell_type": "code",
   "execution_count": 44,
   "metadata": {},
   "outputs": [],
   "source": [
    "class Dataset(Dataset):\n",
    "    def __init__(self, X, y, transform=None):\n",
    "        self.X = X\n",
    "        self.y = y\n",
    "        self.transform = transform\n",
    "\n",
    "    def __len__(self):\n",
    "        return len(self.X)\n",
    "    \n",
    "    def __getitem__(self, idx):\n",
    "        \n",
    "        X = self.X[idx]\n",
    "        y = self.y[idx]\n",
    "        \n",
    "        X = torch.tensor(X, dtype=torch.float32)\n",
    "        y = torch.tensor(y, dtype=torch.float32).unsqueeze(0)\n",
    "        if self.transform:\n",
    "            X = self.transform(X)\n",
    "        return X, y\n",
    "    \n"
   ]
  },
  {
   "cell_type": "code",
   "execution_count": 45,
   "metadata": {},
   "outputs": [],
   "source": [
    "transform = transforms.Compose([\n",
    "    transforms.ToTensor(),\n",
    "])\n",
    "trainloader = DataLoader(Dataset(X_train, y_train), batch_size=32768, shuffle=True)\n",
    "testloader = DataLoader(Dataset(X_test, y_test), batch_size=32768, shuffle=True)"
   ]
  },
  {
   "cell_type": "code",
   "execution_count": 37,
   "metadata": {},
   "outputs": [],
   "source": [
    "# clasifier to predict skip_2\n",
    "class Classifier(nn.Module):\n",
    "    def __init__(self):\n",
    "        super(Classifier, self).__init__()\n",
    "        self.fc1 = nn.Linear(17, 64)\n",
    "        self.fc2 = nn.Linear(64, 64)\n",
    "        self.fc3 = nn.Linear(64, 1)\n",
    "        self.sigmoid = nn.Sigmoid()\n",
    "\n",
    "    def forward(self, x):\n",
    "        x = F.relu(self.fc1(x))\n",
    "        x = F.relu(self.fc2(x))\n",
    "        x = self.fc3(x)\n",
    "        x = self.sigmoid(x)\n",
    "        return x"
   ]
  },
  {
   "cell_type": "code",
   "execution_count": 38,
   "metadata": {},
   "outputs": [],
   "source": [
    "def test(model, testloader):\n",
    "    model.eval()\n",
    "    correct = 0\n",
    "    total = 0\n",
    "    with torch.no_grad():\n",
    "        for data in tqdm(testloader, desc=\"Testing\"):\n",
    "            inputs, labels = data[0].to(device), data[1].to(device)\n",
    "\n",
    "            outputs = model(inputs)\n",
    "            predicted = (outputs > 0.5).float()\n",
    "            total += labels.size(0)\n",
    "            correct += (predicted == labels).sum().item()\n",
    "\n",
    "    print('Accuracy of the network on the 10000 test images: %d %%' % (\n",
    "        100 * correct / total))\n",
    "    \n",
    "    return 100 * correct / total"
   ]
  },
  {
   "cell_type": "code",
   "execution_count": 40,
   "metadata": {},
   "outputs": [
    {
     "name": "stdout",
     "output_type": "stream",
     "text": [
      "Let's use 4 GPUs!\n"
     ]
    },
    {
     "name": "stderr",
     "output_type": "stream",
     "text": [
      "Testing: 100%|██████████| 10/10 [00:07<00:00,  1.26it/s]\n",
      "Training: 10it [00:17,  3.38s/it]"
     ]
    },
    {
     "name": "stdout",
     "output_type": "stream",
     "text": [
      "Accuracy of the network on the 10000 test images: 83 %\n",
      "Epoch: 1, Batch: 10, Loss: 0.6619347631931305, Accuracy: 83.08472184604479 \n"
     ]
    },
    {
     "name": "stderr",
     "output_type": "stream",
     "text": [
      "Testing: 100%|██████████| 10/10 [00:07<00:00,  1.26it/s]\n",
      "Training: 20it [00:33,  3.35s/it]"
     ]
    },
    {
     "name": "stdout",
     "output_type": "stream",
     "text": [
      "Accuracy of the network on the 10000 test images: 84 %\n",
      "Epoch: 1, Batch: 20, Loss: 0.5962418854236603, Accuracy: 84.13266858600754 \n"
     ]
    },
    {
     "name": "stderr",
     "output_type": "stream",
     "text": [
      "Testing: 100%|██████████| 10/10 [00:07<00:00,  1.26it/s]\n",
      "Training: 30it [00:50,  3.33s/it]"
     ]
    },
    {
     "name": "stdout",
     "output_type": "stream",
     "text": [
      "Accuracy of the network on the 10000 test images: 85 %\n",
      "Epoch: 1, Batch: 30, Loss: 0.5147931694984436, Accuracy: 85.0963515804468 \n"
     ]
    },
    {
     "name": "stderr",
     "output_type": "stream",
     "text": [
      "Testing: 100%|██████████| 10/10 [00:08<00:00,  1.22it/s]\n",
      "Training: 40it [01:07,  3.44s/it]"
     ]
    },
    {
     "name": "stdout",
     "output_type": "stream",
     "text": [
      "Accuracy of the network on the 10000 test images: 85 %\n",
      "Epoch: 1, Batch: 40, Loss: 0.43110338449478147, Accuracy: 85.70626059566443 \n"
     ]
    },
    {
     "name": "stderr",
     "output_type": "stream",
     "text": [
      "Testing: 100%|██████████| 10/10 [00:08<00:00,  1.25it/s]\n",
      "Training: 50it [01:23,  3.37s/it]"
     ]
    },
    {
     "name": "stdout",
     "output_type": "stream",
     "text": [
      "Accuracy of the network on the 10000 test images: 85 %\n",
      "Epoch: 1, Batch: 50, Loss: 0.37081676721572876, Accuracy: 85.90153848211568 \n"
     ]
    },
    {
     "name": "stderr",
     "output_type": "stream",
     "text": [
      "Testing: 100%|██████████| 10/10 [00:08<00:00,  1.22it/s]\n",
      "Training: 60it [01:41,  3.41s/it]"
     ]
    },
    {
     "name": "stdout",
     "output_type": "stream",
     "text": [
      "Accuracy of the network on the 10000 test images: 86 %\n",
      "Epoch: 1, Batch: 60, Loss: 0.33784074783325196, Accuracy: 86.23224024530113 \n"
     ]
    },
    {
     "name": "stderr",
     "output_type": "stream",
     "text": [
      "Testing: 100%|██████████| 10/10 [00:08<00:00,  1.19it/s]\n",
      "Training: 70it [01:58,  3.45s/it]"
     ]
    },
    {
     "name": "stdout",
     "output_type": "stream",
     "text": [
      "Accuracy of the network on the 10000 test images: 86 %\n",
      "Epoch: 1, Batch: 70, Loss: 0.31971709430217743, Accuracy: 86.51044435750566 \n"
     ]
    },
    {
     "name": "stderr",
     "output_type": "stream",
     "text": [
      "Testing: 100%|██████████| 10/10 [00:08<00:00,  1.23it/s]\n",
      "Training: 80it [02:15,  3.41s/it]"
     ]
    },
    {
     "name": "stdout",
     "output_type": "stream",
     "text": [
      "Accuracy of the network on the 10000 test images: 86 %\n",
      "Epoch: 1, Batch: 80, Loss: 0.310719695687294, Accuracy: 86.7324726393612 \n"
     ]
    },
    {
     "name": "stderr",
     "output_type": "stream",
     "text": [
      "Training: 83it [02:17,  1.66s/it]\n",
      "Testing: 100%|██████████| 10/10 [00:07<00:00,  1.27it/s]\n",
      "Training: 10it [00:17,  3.37s/it]"
     ]
    },
    {
     "name": "stdout",
     "output_type": "stream",
     "text": [
      "Accuracy of the network on the 10000 test images: 86 %\n",
      "Epoch: 2, Batch: 10, Loss: 0.30415197610855105, Accuracy: 86.88628741293583 \n"
     ]
    },
    {
     "name": "stderr",
     "output_type": "stream",
     "text": [
      "Testing: 100%|██████████| 10/10 [00:07<00:00,  1.26it/s]\n",
      "Training: 20it [00:33,  3.34s/it]"
     ]
    },
    {
     "name": "stdout",
     "output_type": "stream",
     "text": [
      "Accuracy of the network on the 10000 test images: 87 %\n",
      "Epoch: 2, Batch: 20, Loss: 0.29832544922828674, Accuracy: 87.04311160599343 \n"
     ]
    },
    {
     "name": "stderr",
     "output_type": "stream",
     "text": [
      "Testing: 100%|██████████| 10/10 [00:08<00:00,  1.24it/s]\n",
      "Training: 30it [00:50,  3.38s/it]"
     ]
    },
    {
     "name": "stdout",
     "output_type": "stream",
     "text": [
      "Accuracy of the network on the 10000 test images: 87 %\n",
      "Epoch: 2, Batch: 30, Loss: 0.2940054774284363, Accuracy: 87.18923564088932 \n"
     ]
    },
    {
     "name": "stderr",
     "output_type": "stream",
     "text": [
      "Testing: 100%|██████████| 10/10 [00:08<00:00,  1.19it/s]\n",
      "Training: 40it [01:07,  3.43s/it]"
     ]
    },
    {
     "name": "stdout",
     "output_type": "stream",
     "text": [
      "Accuracy of the network on the 10000 test images: 87 %\n",
      "Epoch: 2, Batch: 40, Loss: 0.29018154740333557, Accuracy: 87.25744914917024 \n"
     ]
    },
    {
     "name": "stderr",
     "output_type": "stream",
     "text": [
      "Testing: 100%|██████████| 10/10 [00:08<00:00,  1.18it/s]\n",
      "Training: 50it [01:25,  3.50s/it]"
     ]
    },
    {
     "name": "stdout",
     "output_type": "stream",
     "text": [
      "Accuracy of the network on the 10000 test images: 87 %\n",
      "Epoch: 2, Batch: 50, Loss: 0.2849042505025864, Accuracy: 87.34037537492351 \n"
     ]
    },
    {
     "name": "stderr",
     "output_type": "stream",
     "text": [
      "Testing: 100%|██████████| 10/10 [00:07<00:00,  1.25it/s]\n",
      "Training: 60it [01:42,  3.39s/it]"
     ]
    },
    {
     "name": "stdout",
     "output_type": "stream",
     "text": [
      "Accuracy of the network on the 10000 test images: 87 %\n",
      "Epoch: 2, Batch: 60, Loss: 0.28197681307792666, Accuracy: 87.40190128435336 \n"
     ]
    },
    {
     "name": "stderr",
     "output_type": "stream",
     "text": [
      "Testing: 100%|██████████| 10/10 [00:08<00:00,  1.22it/s]\n",
      "Training: 70it [01:59,  3.41s/it]"
     ]
    },
    {
     "name": "stdout",
     "output_type": "stream",
     "text": [
      "Accuracy of the network on the 10000 test images: 87 %\n",
      "Epoch: 2, Batch: 70, Loss: 0.2762854665517807, Accuracy: 87.48248685050876 \n"
     ]
    },
    {
     "name": "stderr",
     "output_type": "stream",
     "text": [
      "Testing: 100%|██████████| 10/10 [00:08<00:00,  1.21it/s]\n",
      "Training: 80it [02:16,  3.42s/it]"
     ]
    },
    {
     "name": "stdout",
     "output_type": "stream",
     "text": [
      "Accuracy of the network on the 10000 test images: 87 %\n",
      "Epoch: 2, Batch: 80, Loss: 0.269062814116478, Accuracy: 87.57410695476842 \n"
     ]
    },
    {
     "name": "stderr",
     "output_type": "stream",
     "text": [
      "Training: 83it [02:18,  1.67s/it]\n",
      "Testing: 100%|██████████| 10/10 [00:08<00:00,  1.21it/s]\n",
      "Training: 10it [00:17,  3.40s/it]"
     ]
    },
    {
     "name": "stdout",
     "output_type": "stream",
     "text": [
      "Accuracy of the network on the 10000 test images: 87 %\n",
      "Epoch: 3, Batch: 10, Loss: 0.2639276564121246, Accuracy: 87.65034558167063 \n"
     ]
    },
    {
     "name": "stderr",
     "output_type": "stream",
     "text": [
      "Testing: 100%|██████████| 10/10 [00:08<00:00,  1.22it/s]\n",
      "Training: 20it [00:34,  3.43s/it]"
     ]
    },
    {
     "name": "stdout",
     "output_type": "stream",
     "text": [
      "Accuracy of the network on the 10000 test images: 88 %\n",
      "Epoch: 3, Batch: 20, Loss: 0.2566834032535553, Accuracy: 88.00111014140927 \n"
     ]
    },
    {
     "name": "stderr",
     "output_type": "stream",
     "text": [
      "Testing: 100%|██████████| 10/10 [00:08<00:00,  1.23it/s]\n",
      "Training: 30it [00:51,  3.47s/it]"
     ]
    },
    {
     "name": "stdout",
     "output_type": "stream",
     "text": [
      "Accuracy of the network on the 10000 test images: 88 %\n",
      "Epoch: 3, Batch: 30, Loss: 0.25062764883041383, Accuracy: 88.03989821474549 \n"
     ]
    },
    {
     "name": "stderr",
     "output_type": "stream",
     "text": [
      "Testing: 100%|██████████| 10/10 [00:08<00:00,  1.24it/s]\n",
      "Training: 40it [01:08,  3.37s/it]"
     ]
    },
    {
     "name": "stdout",
     "output_type": "stream",
     "text": [
      "Accuracy of the network on the 10000 test images: 88 %\n",
      "Epoch: 3, Batch: 40, Loss: 0.24493041187524794, Accuracy: 88.21946024389673 \n"
     ]
    },
    {
     "name": "stderr",
     "output_type": "stream",
     "text": [
      "Testing: 100%|██████████| 10/10 [00:08<00:00,  1.20it/s]\n",
      "Training: 50it [01:25,  3.46s/it]"
     ]
    },
    {
     "name": "stdout",
     "output_type": "stream",
     "text": [
      "Accuracy of the network on the 10000 test images: 88 %\n",
      "Epoch: 3, Batch: 50, Loss: 0.23742007911205293, Accuracy: 88.34685900200962 \n"
     ]
    },
    {
     "name": "stderr",
     "output_type": "stream",
     "text": [
      "Testing: 100%|██████████| 10/10 [00:08<00:00,  1.19it/s]\n",
      "Training: 60it [01:43,  3.46s/it]"
     ]
    },
    {
     "name": "stdout",
     "output_type": "stream",
     "text": [
      "Accuracy of the network on the 10000 test images: 88 %\n",
      "Epoch: 3, Batch: 60, Loss: 0.22914350032806396, Accuracy: 88.80730018290583 \n"
     ]
    },
    {
     "name": "stderr",
     "output_type": "stream",
     "text": [
      "Testing: 100%|██████████| 10/10 [00:08<00:00,  1.16it/s]\n",
      "Training: 70it [02:00,  3.55s/it]"
     ]
    },
    {
     "name": "stdout",
     "output_type": "stream",
     "text": [
      "Accuracy of the network on the 10000 test images: 89 %\n",
      "Epoch: 3, Batch: 70, Loss: 0.21916112601757048, Accuracy: 89.30519191736803 \n"
     ]
    },
    {
     "name": "stderr",
     "output_type": "stream",
     "text": [
      "Testing: 100%|██████████| 10/10 [00:08<00:00,  1.21it/s]\n",
      "Training: 80it [02:17,  3.46s/it]"
     ]
    },
    {
     "name": "stdout",
     "output_type": "stream",
     "text": [
      "Accuracy of the network on the 10000 test images: 89 %\n",
      "Epoch: 3, Batch: 80, Loss: 0.20948667973279952, Accuracy: 89.59743998715982 \n"
     ]
    },
    {
     "name": "stderr",
     "output_type": "stream",
     "text": [
      "Training: 83it [02:19,  1.68s/it]\n",
      "Testing: 100%|██████████| 10/10 [00:08<00:00,  1.21it/s]\n",
      "Training: 10it [00:17,  3.50s/it]"
     ]
    },
    {
     "name": "stdout",
     "output_type": "stream",
     "text": [
      "Accuracy of the network on the 10000 test images: 89 %\n",
      "Epoch: 4, Batch: 10, Loss: 0.1984335571527481, Accuracy: 89.96559230391124 \n"
     ]
    },
    {
     "name": "stderr",
     "output_type": "stream",
     "text": [
      "Testing: 100%|██████████| 10/10 [00:08<00:00,  1.23it/s]\n",
      "Training: 20it [00:34,  3.40s/it]"
     ]
    },
    {
     "name": "stdout",
     "output_type": "stream",
     "text": [
      "Accuracy of the network on the 10000 test images: 90 %\n",
      "Epoch: 4, Batch: 20, Loss: 0.19012366384267806, Accuracy: 90.11673203794544 \n"
     ]
    },
    {
     "name": "stderr",
     "output_type": "stream",
     "text": [
      "Testing: 100%|██████████| 10/10 [00:08<00:00,  1.18it/s]\n",
      "Training: 30it [00:51,  3.50s/it]"
     ]
    },
    {
     "name": "stdout",
     "output_type": "stream",
     "text": [
      "Accuracy of the network on the 10000 test images: 90 %\n",
      "Epoch: 4, Batch: 30, Loss: 0.18270678967237472, Accuracy: 90.23510253760938 \n"
     ]
    },
    {
     "name": "stderr",
     "output_type": "stream",
     "text": [
      "Testing: 100%|██████████| 10/10 [00:08<00:00,  1.19it/s]\n",
      "Training: 40it [01:08,  3.49s/it]"
     ]
    },
    {
     "name": "stdout",
     "output_type": "stream",
     "text": [
      "Accuracy of the network on the 10000 test images: 90 %\n",
      "Epoch: 4, Batch: 40, Loss: 0.1775936648249626, Accuracy: 90.25917789347324 \n"
     ]
    },
    {
     "name": "stderr",
     "output_type": "stream",
     "text": [
      "Testing: 100%|██████████| 10/10 [00:08<00:00,  1.13it/s]\n",
      "Training: 50it [01:26,  3.60s/it]"
     ]
    },
    {
     "name": "stdout",
     "output_type": "stream",
     "text": [
      "Accuracy of the network on the 10000 test images: 90 %\n",
      "Epoch: 4, Batch: 50, Loss: 0.17138411700725556, Accuracy: 90.35982625618185 \n"
     ]
    },
    {
     "name": "stderr",
     "output_type": "stream",
     "text": [
      "Testing: 100%|██████████| 10/10 [00:08<00:00,  1.22it/s]\n",
      "Training: 60it [01:43,  3.43s/it]"
     ]
    },
    {
     "name": "stdout",
     "output_type": "stream",
     "text": [
      "Accuracy of the network on the 10000 test images: 90 %\n",
      "Epoch: 4, Batch: 60, Loss: 0.1680678352713585, Accuracy: 90.47619047619048 \n"
     ]
    },
    {
     "name": "stderr",
     "output_type": "stream",
     "text": [
      "Testing: 100%|██████████| 10/10 [00:08<00:00,  1.24it/s]\n",
      "Training: 70it [02:00,  3.42s/it]"
     ]
    },
    {
     "name": "stdout",
     "output_type": "stream",
     "text": [
      "Accuracy of the network on the 10000 test images: 90 %\n",
      "Epoch: 4, Batch: 70, Loss: 0.1654917284846306, Accuracy: 90.41934588595637 \n"
     ]
    },
    {
     "name": "stderr",
     "output_type": "stream",
     "text": [
      "Testing: 100%|██████████| 10/10 [00:08<00:00,  1.25it/s]\n",
      "Training: 80it [02:16,  3.34s/it]"
     ]
    },
    {
     "name": "stdout",
     "output_type": "stream",
     "text": [
      "Accuracy of the network on the 10000 test images: 90 %\n",
      "Epoch: 4, Batch: 80, Loss: 0.16295808255672456, Accuracy: 90.61529253229274 \n"
     ]
    },
    {
     "name": "stderr",
     "output_type": "stream",
     "text": [
      "Training: 83it [02:18,  1.67s/it]\n",
      "Testing: 100%|██████████| 10/10 [00:08<00:00,  1.22it/s]\n",
      "Training: 10it [00:17,  3.42s/it]"
     ]
    },
    {
     "name": "stdout",
     "output_type": "stream",
     "text": [
      "Accuracy of the network on the 10000 test images: 90 %\n",
      "Epoch: 5, Batch: 10, Loss: 0.15959189236164092, Accuracy: 90.61763319189062 \n"
     ]
    },
    {
     "name": "stderr",
     "output_type": "stream",
     "text": [
      "Testing: 100%|██████████| 10/10 [00:08<00:00,  1.19it/s]\n",
      "Training: 20it [00:34,  3.42s/it]"
     ]
    },
    {
     "name": "stdout",
     "output_type": "stream",
     "text": [
      "Accuracy of the network on the 10000 test images: 90 %\n",
      "Epoch: 5, Batch: 20, Loss: 0.15915586352348327, Accuracy: 90.67548092195237 \n"
     ]
    },
    {
     "name": "stderr",
     "output_type": "stream",
     "text": [
      "Testing: 100%|██████████| 10/10 [00:08<00:00,  1.22it/s]\n",
      "Training: 30it [00:51,  3.49s/it]"
     ]
    },
    {
     "name": "stdout",
     "output_type": "stream",
     "text": [
      "Accuracy of the network on the 10000 test images: 90 %\n",
      "Epoch: 5, Batch: 30, Loss: 0.158899287879467, Accuracy: 90.65775878499704 \n"
     ]
    },
    {
     "name": "stderr",
     "output_type": "stream",
     "text": [
      "Testing: 100%|██████████| 10/10 [00:08<00:00,  1.22it/s]\n",
      "Training: 40it [01:08,  3.45s/it]"
     ]
    },
    {
     "name": "stdout",
     "output_type": "stream",
     "text": [
      "Accuracy of the network on the 10000 test images: 90 %\n",
      "Epoch: 5, Batch: 40, Loss: 0.15859759151935576, Accuracy: 90.67581530189493 \n"
     ]
    },
    {
     "name": "stderr",
     "output_type": "stream",
     "text": [
      "Testing: 100%|██████████| 10/10 [00:08<00:00,  1.22it/s]\n",
      "Training: 50it [01:26,  3.46s/it]"
     ]
    },
    {
     "name": "stdout",
     "output_type": "stream",
     "text": [
      "Accuracy of the network on the 10000 test images: 90 %\n",
      "Epoch: 5, Batch: 50, Loss: 0.15708399415016175, Accuracy: 90.75840714770565 \n"
     ]
    },
    {
     "name": "stderr",
     "output_type": "stream",
     "text": [
      "Testing: 100%|██████████| 10/10 [00:08<00:00,  1.14it/s]\n",
      "Training: 60it [01:43,  3.58s/it]"
     ]
    },
    {
     "name": "stdout",
     "output_type": "stream",
     "text": [
      "Accuracy of the network on the 10000 test images: 90 %\n",
      "Epoch: 5, Batch: 60, Loss: 0.15647746622562408, Accuracy: 90.72028783425455 \n"
     ]
    },
    {
     "name": "stderr",
     "output_type": "stream",
     "text": [
      "Testing: 100%|██████████| 10/10 [00:08<00:00,  1.17it/s]\n",
      "Training: 70it [02:00,  3.48s/it]"
     ]
    },
    {
     "name": "stdout",
     "output_type": "stream",
     "text": [
      "Accuracy of the network on the 10000 test images: 90 %\n",
      "Epoch: 5, Batch: 70, Loss: 0.15599797517061234, Accuracy: 90.69520933856303 \n"
     ]
    },
    {
     "name": "stderr",
     "output_type": "stream",
     "text": [
      "Testing: 100%|██████████| 10/10 [00:08<00:00,  1.22it/s]\n",
      "Training: 80it [02:17,  3.44s/it]"
     ]
    },
    {
     "name": "stdout",
     "output_type": "stream",
     "text": [
      "Accuracy of the network on the 10000 test images: 90 %\n",
      "Epoch: 5, Batch: 80, Loss: 0.1558242529630661, Accuracy: 90.80722661931847 \n"
     ]
    },
    {
     "name": "stderr",
     "output_type": "stream",
     "text": [
      "Training: 83it [02:20,  1.69s/it]\n",
      "Testing: 100%|██████████| 10/10 [00:08<00:00,  1.22it/s]\n",
      "Training: 10it [00:17,  3.44s/it]"
     ]
    },
    {
     "name": "stdout",
     "output_type": "stream",
     "text": [
      "Accuracy of the network on the 10000 test images: 90 %\n",
      "Epoch: 6, Batch: 10, Loss: 0.15480085462331772, Accuracy: 90.81959867719294 \n"
     ]
    },
    {
     "name": "stderr",
     "output_type": "stream",
     "text": [
      "Testing: 100%|██████████| 10/10 [00:08<00:00,  1.22it/s]\n",
      "Training: 20it [00:34,  3.43s/it]"
     ]
    },
    {
     "name": "stdout",
     "output_type": "stream",
     "text": [
      "Accuracy of the network on the 10000 test images: 90 %\n",
      "Epoch: 6, Batch: 20, Loss: 0.15429613143205642, Accuracy: 90.90453118260154 \n"
     ]
    },
    {
     "name": "stderr",
     "output_type": "stream",
     "text": [
      "Testing: 100%|██████████| 10/10 [00:08<00:00,  1.24it/s]\n",
      "Training: 30it [00:51,  3.39s/it]"
     ]
    },
    {
     "name": "stdout",
     "output_type": "stream",
     "text": [
      "Accuracy of the network on the 10000 test images: 90 %\n",
      "Epoch: 6, Batch: 30, Loss: 0.15488688945770263, Accuracy: 90.79284828178866 \n"
     ]
    },
    {
     "name": "stderr",
     "output_type": "stream",
     "text": [
      "Testing: 100%|██████████| 10/10 [00:08<00:00,  1.24it/s]\n",
      "Training: 40it [01:08,  3.38s/it]"
     ]
    },
    {
     "name": "stdout",
     "output_type": "stream",
     "text": [
      "Accuracy of the network on the 10000 test images: 90 %\n",
      "Epoch: 6, Batch: 40, Loss: 0.1546143740415573, Accuracy: 90.75974466747587 \n"
     ]
    },
    {
     "name": "stderr",
     "output_type": "stream",
     "text": [
      "Testing: 100%|██████████| 10/10 [00:08<00:00,  1.21it/s]\n",
      "Training: 50it [01:25,  3.45s/it]"
     ]
    },
    {
     "name": "stdout",
     "output_type": "stream",
     "text": [
      "Accuracy of the network on the 10000 test images: 90 %\n",
      "Epoch: 6, Batch: 50, Loss: 0.15391428470611573, Accuracy: 90.84969287202277 \n"
     ]
    },
    {
     "name": "stderr",
     "output_type": "stream",
     "text": [
      "Testing: 100%|██████████| 10/10 [00:08<00:00,  1.16it/s]\n",
      "Training: 60it [01:42,  3.49s/it]"
     ]
    },
    {
     "name": "stdout",
     "output_type": "stream",
     "text": [
      "Accuracy of the network on the 10000 test images: 90 %\n",
      "Epoch: 6, Batch: 60, Loss: 0.15274820625782012, Accuracy: 90.91957828001645 \n"
     ]
    },
    {
     "name": "stderr",
     "output_type": "stream",
     "text": [
      "Testing: 100%|██████████| 10/10 [00:08<00:00,  1.22it/s]\n",
      "Training: 70it [02:00,  3.46s/it]"
     ]
    },
    {
     "name": "stdout",
     "output_type": "stream",
     "text": [
      "Accuracy of the network on the 10000 test images: 90 %\n",
      "Epoch: 6, Batch: 70, Loss: 0.15322405844926834, Accuracy: 90.90820936196963 \n"
     ]
    },
    {
     "name": "stderr",
     "output_type": "stream",
     "text": [
      "Testing: 100%|██████████| 10/10 [00:08<00:00,  1.17it/s]\n",
      "Training: 80it [02:17,  3.52s/it]"
     ]
    },
    {
     "name": "stdout",
     "output_type": "stream",
     "text": [
      "Accuracy of the network on the 10000 test images: 90 %\n",
      "Epoch: 6, Batch: 80, Loss: 0.154167078435421, Accuracy: 90.93195033789094 \n"
     ]
    },
    {
     "name": "stderr",
     "output_type": "stream",
     "text": [
      "Training: 83it [02:19,  1.68s/it]\n",
      "Testing: 100%|██████████| 10/10 [00:08<00:00,  1.21it/s]\n",
      "Training: 10it [00:17,  3.52s/it]"
     ]
    },
    {
     "name": "stdout",
     "output_type": "stream",
     "text": [
      "Accuracy of the network on the 10000 test images: 90 %\n",
      "Epoch: 7, Batch: 10, Loss: 0.1537286475300789, Accuracy: 90.89249350466962 \n"
     ]
    },
    {
     "name": "stderr",
     "output_type": "stream",
     "text": [
      "Testing: 100%|██████████| 10/10 [00:08<00:00,  1.24it/s]\n",
      "Training: 20it [00:34,  3.40s/it]"
     ]
    },
    {
     "name": "stdout",
     "output_type": "stream",
     "text": [
      "Accuracy of the network on the 10000 test images: 90 %\n",
      "Epoch: 7, Batch: 20, Loss: 0.15243644416332244, Accuracy: 90.9536850341569 \n"
     ]
    },
    {
     "name": "stderr",
     "output_type": "stream",
     "text": [
      "Testing: 100%|██████████| 10/10 [00:08<00:00,  1.22it/s]\n",
      "Training: 30it [00:52,  3.45s/it]"
     ]
    },
    {
     "name": "stdout",
     "output_type": "stream",
     "text": [
      "Accuracy of the network on the 10000 test images: 90 %\n",
      "Epoch: 7, Batch: 30, Loss: 0.15246739387512206, Accuracy: 90.86808376886322 \n"
     ]
    },
    {
     "name": "stderr",
     "output_type": "stream",
     "text": [
      "Testing: 100%|██████████| 10/10 [00:08<00:00,  1.15it/s]\n",
      "Training: 40it [01:10,  3.53s/it]"
     ]
    },
    {
     "name": "stdout",
     "output_type": "stream",
     "text": [
      "Accuracy of the network on the 10000 test images: 90 %\n",
      "Epoch: 7, Batch: 40, Loss: 0.15212820768356322, Accuracy: 90.94599429547819 \n"
     ]
    },
    {
     "name": "stderr",
     "output_type": "stream",
     "text": [
      "Testing: 100%|██████████| 10/10 [00:08<00:00,  1.20it/s]\n",
      "Training: 50it [01:27,  3.54s/it]"
     ]
    },
    {
     "name": "stdout",
     "output_type": "stream",
     "text": [
      "Accuracy of the network on the 10000 test images: 90 %\n",
      "Epoch: 7, Batch: 50, Loss: 0.15481720566749574, Accuracy: 90.91590010064836 \n"
     ]
    },
    {
     "name": "stderr",
     "output_type": "stream",
     "text": [
      "Testing: 100%|██████████| 10/10 [00:08<00:00,  1.16it/s]\n",
      "Training: 60it [01:45,  3.56s/it]"
     ]
    },
    {
     "name": "stdout",
     "output_type": "stream",
     "text": [
      "Accuracy of the network on the 10000 test images: 90 %\n",
      "Epoch: 7, Batch: 60, Loss: 0.15280367732048034, Accuracy: 90.96304767254841 \n"
     ]
    },
    {
     "name": "stderr",
     "output_type": "stream",
     "text": [
      "Testing: 100%|██████████| 10/10 [00:08<00:00,  1.21it/s]\n",
      "Training: 70it [02:02,  3.47s/it]"
     ]
    },
    {
     "name": "stdout",
     "output_type": "stream",
     "text": [
      "Accuracy of the network on the 10000 test images: 90 %\n",
      "Epoch: 7, Batch: 70, Loss: 0.15408993810415267, Accuracy: 90.94131297628243 \n"
     ]
    },
    {
     "name": "stderr",
     "output_type": "stream",
     "text": [
      "Testing: 100%|██████████| 10/10 [00:08<00:00,  1.15it/s]\n",
      "Training: 80it [02:20,  3.56s/it]"
     ]
    },
    {
     "name": "stdout",
     "output_type": "stream",
     "text": [
      "Accuracy of the network on the 10000 test images: 90 %\n",
      "Epoch: 7, Batch: 80, Loss: 0.15366092175245286, Accuracy: 90.96070701295054 \n"
     ]
    },
    {
     "name": "stderr",
     "output_type": "stream",
     "text": [
      "Training: 83it [02:22,  1.71s/it]\n",
      "Testing: 100%|██████████| 10/10 [00:08<00:00,  1.14it/s]\n",
      "Training: 10it [00:18,  3.59s/it]"
     ]
    },
    {
     "name": "stdout",
     "output_type": "stream",
     "text": [
      "Accuracy of the network on the 10000 test images: 90 %\n",
      "Epoch: 8, Batch: 10, Loss: 0.15455220341682435, Accuracy: 90.95100999461648 \n"
     ]
    },
    {
     "name": "stderr",
     "output_type": "stream",
     "text": [
      "Testing: 100%|██████████| 10/10 [00:08<00:00,  1.23it/s]\n",
      "Training: 20it [00:35,  3.37s/it]"
     ]
    },
    {
     "name": "stdout",
     "output_type": "stream",
     "text": [
      "Accuracy of the network on the 10000 test images: 90 %\n",
      "Epoch: 8, Batch: 20, Loss: 0.15525605231523515, Accuracy: 90.96639147197395 \n"
     ]
    },
    {
     "name": "stderr",
     "output_type": "stream",
     "text": [
      "Testing: 100%|██████████| 10/10 [00:08<00:00,  1.24it/s]\n",
      "Training: 30it [00:52,  3.40s/it]"
     ]
    },
    {
     "name": "stdout",
     "output_type": "stream",
     "text": [
      "Accuracy of the network on the 10000 test images: 90 %\n",
      "Epoch: 8, Batch: 30, Loss: 0.15346936136484146, Accuracy: 90.9610413928931 \n"
     ]
    },
    {
     "name": "stderr",
     "output_type": "stream",
     "text": [
      "Testing: 100%|██████████| 10/10 [00:07<00:00,  1.26it/s]\n",
      "Training: 40it [01:09,  3.35s/it]"
     ]
    },
    {
     "name": "stdout",
     "output_type": "stream",
     "text": [
      "Accuracy of the network on the 10000 test images: 90 %\n",
      "Epoch: 8, Batch: 40, Loss: 0.1547505810856819, Accuracy: 90.957363213525 \n"
     ]
    },
    {
     "name": "stderr",
     "output_type": "stream",
     "text": [
      "Testing: 100%|██████████| 10/10 [00:08<00:00,  1.22it/s]\n",
      "Training: 50it [01:25,  3.40s/it]"
     ]
    },
    {
     "name": "stdout",
     "output_type": "stream",
     "text": [
      "Accuracy of the network on the 10000 test images: 90 %\n",
      "Epoch: 8, Batch: 50, Loss: 0.15371177941560746, Accuracy: 90.92258769949943 \n"
     ]
    },
    {
     "name": "stderr",
     "output_type": "stream",
     "text": [
      "Testing: 100%|██████████| 10/10 [00:08<00:00,  1.17it/s]\n",
      "Training: 60it [01:43,  3.48s/it]"
     ]
    },
    {
     "name": "stdout",
     "output_type": "stream",
     "text": [
      "Accuracy of the network on the 10000 test images: 90 %\n",
      "Epoch: 8, Batch: 60, Loss: 0.15337525308132172, Accuracy: 90.94231611611009 \n"
     ]
    },
    {
     "name": "stderr",
     "output_type": "stream",
     "text": [
      "Testing: 100%|██████████| 10/10 [00:08<00:00,  1.22it/s]\n",
      "Training: 70it [02:00,  3.41s/it]"
     ]
    },
    {
     "name": "stdout",
     "output_type": "stream",
     "text": [
      "Accuracy of the network on the 10000 test images: 90 %\n",
      "Epoch: 8, Batch: 70, Loss: 0.1535692945122719, Accuracy: 90.97107279116969 \n"
     ]
    },
    {
     "name": "stderr",
     "output_type": "stream",
     "text": [
      "Testing: 100%|██████████| 10/10 [00:07<00:00,  1.25it/s]\n",
      "Training: 80it [02:17,  3.36s/it]"
     ]
    },
    {
     "name": "stdout",
     "output_type": "stream",
     "text": [
      "Accuracy of the network on the 10000 test images: 90 %\n",
      "Epoch: 8, Batch: 80, Loss: 0.15258408933877946, Accuracy: 90.9961512868612 \n"
     ]
    },
    {
     "name": "stderr",
     "output_type": "stream",
     "text": [
      "Training: 83it [02:19,  1.68s/it]\n",
      "Testing: 100%|██████████| 10/10 [00:08<00:00,  1.23it/s]\n",
      "Training: 10it [00:17,  3.43s/it]"
     ]
    },
    {
     "name": "stdout",
     "output_type": "stream",
     "text": [
      "Accuracy of the network on the 10000 test images: 90 %\n",
      "Epoch: 9, Batch: 10, Loss: 0.15428033471107483, Accuracy: 90.93964107656966 \n"
     ]
    },
    {
     "name": "stderr",
     "output_type": "stream",
     "text": [
      "Testing: 100%|██████████| 10/10 [00:08<00:00,  1.22it/s]\n",
      "Training: 20it [00:34,  3.42s/it]"
     ]
    },
    {
     "name": "stdout",
     "output_type": "stream",
     "text": [
      "Accuracy of the network on the 10000 test images: 90 %\n",
      "Epoch: 9, Batch: 20, Loss: 0.15403223037719727, Accuracy: 90.92693463875263 \n"
     ]
    },
    {
     "name": "stderr",
     "output_type": "stream",
     "text": [
      "Testing: 100%|██████████| 10/10 [00:08<00:00,  1.24it/s]\n",
      "Training: 30it [00:51,  3.36s/it]"
     ]
    },
    {
     "name": "stdout",
     "output_type": "stream",
     "text": [
      "Accuracy of the network on the 10000 test images: 90 %\n",
      "Epoch: 9, Batch: 30, Loss: 0.15316273868083954, Accuracy: 90.96806337168671 \n"
     ]
    },
    {
     "name": "stderr",
     "output_type": "stream",
     "text": [
      "Testing: 100%|██████████| 10/10 [00:08<00:00,  1.24it/s]\n",
      "Training: 40it [01:08,  3.39s/it]"
     ]
    },
    {
     "name": "stdout",
     "output_type": "stream",
     "text": [
      "Accuracy of the network on the 10000 test images: 90 %\n",
      "Epoch: 9, Batch: 40, Loss: 0.153170707821846, Accuracy: 90.95502255392712 \n"
     ]
    },
    {
     "name": "stderr",
     "output_type": "stream",
     "text": [
      "Testing: 100%|██████████| 10/10 [00:08<00:00,  1.24it/s]\n",
      "Training: 50it [01:25,  3.40s/it]"
     ]
    },
    {
     "name": "stdout",
     "output_type": "stream",
     "text": [
      "Accuracy of the network on the 10000 test images: 90 %\n",
      "Epoch: 9, Batch: 50, Loss: 0.15478263944387435, Accuracy: 90.97140717111225 \n"
     ]
    },
    {
     "name": "stderr",
     "output_type": "stream",
     "text": [
      "Testing: 100%|██████████| 10/10 [00:08<00:00,  1.24it/s]\n",
      "Training: 60it [01:41,  3.36s/it]"
     ]
    },
    {
     "name": "stdout",
     "output_type": "stream",
     "text": [
      "Accuracy of the network on the 10000 test images: 90 %\n",
      "Epoch: 9, Batch: 60, Loss: 0.1516824945807457, Accuracy: 90.96772899174415 \n"
     ]
    },
    {
     "name": "stderr",
     "output_type": "stream",
     "text": [
      "Testing: 100%|██████████| 10/10 [00:08<00:00,  1.22it/s]\n",
      "Training: 70it [01:59,  3.37s/it]"
     ]
    },
    {
     "name": "stdout",
     "output_type": "stream",
     "text": [
      "Accuracy of the network on the 10000 test images: 90 %\n",
      "Epoch: 9, Batch: 70, Loss: 0.15343193411827089, Accuracy: 90.9292752983505 \n"
     ]
    },
    {
     "name": "stderr",
     "output_type": "stream",
     "text": [
      "Testing: 100%|██████████| 10/10 [00:08<00:00,  1.18it/s]\n",
      "Training: 80it [02:16,  3.45s/it]"
     ]
    },
    {
     "name": "stdout",
     "output_type": "stream",
     "text": [
      "Accuracy of the network on the 10000 test images: 90 %\n",
      "Epoch: 9, Batch: 80, Loss: 0.15309019684791564, Accuracy: 90.99280748743567 \n"
     ]
    },
    {
     "name": "stderr",
     "output_type": "stream",
     "text": [
      "Training: 83it [02:17,  1.66s/it]\n",
      "Testing: 100%|██████████| 10/10 [00:08<00:00,  1.21it/s]\n",
      "Training: 10it [00:17,  3.49s/it]"
     ]
    },
    {
     "name": "stdout",
     "output_type": "stream",
     "text": [
      "Accuracy of the network on the 10000 test images: 90 %\n",
      "Epoch: 10, Batch: 10, Loss: 0.15215302556753157, Accuracy: 90.97709163013566 \n"
     ]
    },
    {
     "name": "stderr",
     "output_type": "stream",
     "text": [
      "Testing: 100%|██████████| 10/10 [00:08<00:00,  1.23it/s]\n",
      "Training: 20it [00:34,  3.42s/it]"
     ]
    },
    {
     "name": "stdout",
     "output_type": "stream",
     "text": [
      "Accuracy of the network on the 10000 test images: 90 %\n",
      "Epoch: 10, Batch: 20, Loss: 0.15326287150382994, Accuracy: 90.9817729493314 \n"
     ]
    },
    {
     "name": "stderr",
     "output_type": "stream",
     "text": [
      "Testing: 100%|██████████| 10/10 [00:08<00:00,  1.23it/s]\n",
      "Training: 30it [00:51,  3.44s/it]"
     ]
    },
    {
     "name": "stdout",
     "output_type": "stream",
     "text": [
      "Accuracy of the network on the 10000 test images: 90 %\n",
      "Epoch: 10, Batch: 30, Loss: 0.1533356562256813, Accuracy: 90.96338205249096 \n"
     ]
    },
    {
     "name": "stderr",
     "output_type": "stream",
     "text": [
      "Testing: 100%|██████████| 10/10 [00:08<00:00,  1.15it/s]\n",
      "Training: 40it [01:09,  3.58s/it]"
     ]
    },
    {
     "name": "stdout",
     "output_type": "stream",
     "text": [
      "Accuracy of the network on the 10000 test images: 90 %\n",
      "Epoch: 10, Batch: 40, Loss: 0.1530451402068138, Accuracy: 90.96605709203139 \n"
     ]
    },
    {
     "name": "stderr",
     "output_type": "stream",
     "text": [
      "Testing: 100%|██████████| 10/10 [00:08<00:00,  1.17it/s]\n",
      "Training: 50it [01:26,  3.51s/it]"
     ]
    },
    {
     "name": "stdout",
     "output_type": "stream",
     "text": [
      "Accuracy of the network on the 10000 test images: 90 %\n",
      "Epoch: 10, Batch: 50, Loss: 0.15155445486307145, Accuracy: 90.95468817398458 \n"
     ]
    },
    {
     "name": "stderr",
     "output_type": "stream",
     "text": [
      "Testing: 100%|██████████| 10/10 [00:08<00:00,  1.21it/s]\n",
      "Training: 60it [01:44,  3.48s/it]"
     ]
    },
    {
     "name": "stdout",
     "output_type": "stream",
     "text": [
      "Accuracy of the network on the 10000 test images: 90 %\n",
      "Epoch: 10, Batch: 60, Loss: 0.15079046040773392, Accuracy: 90.96906651151437 \n"
     ]
    },
    {
     "name": "stderr",
     "output_type": "stream",
     "text": [
      "Testing: 100%|██████████| 10/10 [00:08<00:00,  1.23it/s]\n",
      "Training: 70it [02:01,  3.45s/it]"
     ]
    },
    {
     "name": "stdout",
     "output_type": "stream",
     "text": [
      "Accuracy of the network on the 10000 test images: 91 %\n",
      "Epoch: 10, Batch: 70, Loss: 0.1510421171784401, Accuracy: 91.01521094358677 \n"
     ]
    },
    {
     "name": "stderr",
     "output_type": "stream",
     "text": [
      "Testing: 100%|██████████| 10/10 [00:08<00:00,  1.23it/s]\n",
      "Training: 80it [02:19,  3.43s/it]"
     ]
    },
    {
     "name": "stdout",
     "output_type": "stream",
     "text": [
      "Accuracy of the network on the 10000 test images: 91 %\n",
      "Epoch: 10, Batch: 80, Loss: 0.15148136019706726, Accuracy: 91.04530513841658 \n"
     ]
    },
    {
     "name": "stderr",
     "output_type": "stream",
     "text": [
      "Training: 83it [02:21,  1.70s/it]\n"
     ]
    },
    {
     "name": "stdout",
     "output_type": "stream",
     "text": [
      "Finished Training\n"
     ]
    },
    {
     "data": {
      "image/png": "[encoded data removed]",
      "text/plain": [
       "<Figure size 640x480 with 2 Axes>"
      ]
     },
     "metadata": {},
     "output_type": "display_data"
    }
   ],
   "source": [
    "def train(model, trainloader, testloader, criterion, optimizer, epochs=10 ):\n",
    "    acc_curve = []\n",
    "    loss_curve = []\n",
    "    for epoch in range(epochs):\n",
    "        running_loss = 0.0\n",
    "        for i, data in tqdm(enumerate(trainloader), desc=\"Training\"):\n",
    "            inputs, labels = data[0].to(device), data[1].to(device)\n",
    "            optimizer.zero_grad()\n",
    "\n",
    "            outputs = model(inputs)\n",
    "            loss = criterion(outputs, labels)\n",
    "            loss.backward()\n",
    "            optimizer.step()\n",
    "\n",
    "            running_loss += loss.item()\n",
    "            if i %10 == 9:\n",
    "                acc = test(model, testloader)\n",
    "                print(f\"Epoch: {epoch+1}, Batch: {i+1}, Loss: {running_loss/10}, Accuracy: {acc} \")\n",
    "                acc_curve.append(acc)\n",
    "                loss_curve.append(running_loss)\n",
    "                running_loss = 0.0\n",
    "                # test\n",
    "\n",
    "    print('Finished Training')\n",
    "    return acc_curve, loss_curve\n",
    "        \n",
    "model = Classifier()\n",
    "criterion = nn.BCELoss()\n",
    "optimizer = torch.optim.Adam(model.parameters(), lr=0.001)\n",
    "\n",
    "model = model.to(device)\n",
    "if torch.cuda.device_count() > 1:\n",
    "    print(\"Let's use\", torch.cuda.device_count(), \"GPUs!\")\n",
    "    model = nn.DataParallel(model)\n",
    "\n",
    "acc_curve, loss_curve = train(model, trainloader, testloader, criterion, optimizer, epochs=10)\n",
    "plt.subplot(2,1,1)\n",
    "plt.title(\"Loss Curve\")\n",
    "plt.plot(loss_curve)\n",
    "plt.subplot(2,1,2)\n",
    "plt.title(\"Accuracy Curve\")\n",
    "plt.plot(acc_curve)\n",
    "plt.show()"
   ]
  },
  {
   "cell_type": "code",
   "execution_count": 46,
   "metadata": {},
   "outputs": [
    {
     "name": "stdout",
     "output_type": "stream",
     "text": [
      "Let's use 4 GPUs!\n"
     ]
    },
    {
     "name": "stderr",
     "output_type": "stream",
     "text": [
      "Training: 0it [00:01, ?it/s]\n"
     ]
    },
    {
     "ename": "RuntimeError",
     "evalue": "Caught RuntimeError in replica 0 on device 0.\nOriginal Traceback (most recent call last):\n  File \"/home2/anirudhkaushik/miniconda3/envs/pytorch/lib/python3.10/site-packages/torch/nn/parallel/parallel_apply.py\", line 64, in _worker\n    output = module(*input, **kwargs)\n  File \"/home2/anirudhkaushik/miniconda3/envs/pytorch/lib/python3.10/site-packages/torch/nn/modules/module.py\", line 1190, in _call_impl\n    return forward_call(*input, **kwargs)\n  File \"/tmp/ipykernel_4641/3276073437.py\", line 11, in forward\n    x = F.relu(self.fc1(x))\n  File \"/home2/anirudhkaushik/miniconda3/envs/pytorch/lib/python3.10/site-packages/torch/nn/modules/module.py\", line 1190, in _call_impl\n    return forward_call(*input, **kwargs)\n  File \"/home2/anirudhkaushik/miniconda3/envs/pytorch/lib/python3.10/site-packages/torch/nn/modules/linear.py\", line 114, in forward\n    return F.linear(input, self.weight, self.bias)\nRuntimeError: mat1 and mat2 shapes cannot be multiplied (8192x16 and 17x64)\n",
     "output_type": "error",
     "traceback": [
      "\u001b[0;31m---------------------------------------------------------------------------\u001b[0m",
      "\u001b[0;31mRuntimeError\u001b[0m                              Traceback (most recent call last)",
      "Cell \u001b[0;32mIn[46], line 10\u001b[0m\n\u001b[1;32m      7\u001b[0m     \u001b[39mprint\u001b[39m(\u001b[39m\"\u001b[39m\u001b[39mLet\u001b[39m\u001b[39m'\u001b[39m\u001b[39ms use\u001b[39m\u001b[39m\"\u001b[39m, torch\u001b[39m.\u001b[39mcuda\u001b[39m.\u001b[39mdevice_count(), \u001b[39m\"\u001b[39m\u001b[39mGPUs!\u001b[39m\u001b[39m\"\u001b[39m)\n\u001b[1;32m      8\u001b[0m     model \u001b[39m=\u001b[39m nn\u001b[39m.\u001b[39mDataParallel(model)\n\u001b[0;32m---> 10\u001b[0m acc_curve, loss_curve \u001b[39m=\u001b[39m train(model, trainloader, testloader, criterion, optimizer, epochs\u001b[39m=\u001b[39;49m\u001b[39m5\u001b[39;49m)\n\u001b[1;32m     11\u001b[0m plt\u001b[39m.\u001b[39msubplot(\u001b[39m2\u001b[39m,\u001b[39m1\u001b[39m,\u001b[39m1\u001b[39m)\n\u001b[1;32m     12\u001b[0m plt\u001b[39m.\u001b[39mtitle(\u001b[39m\"\u001b[39m\u001b[39mLoss Curve\u001b[39m\u001b[39m\"\u001b[39m)\n",
      "Cell \u001b[0;32mIn[40], line 10\u001b[0m, in \u001b[0;36mtrain\u001b[0;34m(model, trainloader, testloader, criterion, optimizer, epochs)\u001b[0m\n\u001b[1;32m      7\u001b[0m inputs, labels \u001b[39m=\u001b[39m data[\u001b[39m0\u001b[39m]\u001b[39m.\u001b[39mto(device), data[\u001b[39m1\u001b[39m]\u001b[39m.\u001b[39mto(device)\n\u001b[1;32m      8\u001b[0m optimizer\u001b[39m.\u001b[39mzero_grad()\n\u001b[0;32m---> 10\u001b[0m outputs \u001b[39m=\u001b[39m model(inputs)\n\u001b[1;32m     11\u001b[0m loss \u001b[39m=\u001b[39m criterion(outputs, labels)\n\u001b[1;32m     12\u001b[0m loss\u001b[39m.\u001b[39mbackward()\n",
      "File \u001b[0;32m~/miniconda3/envs/pytorch/lib/python3.10/site-packages/torch/nn/modules/module.py:1190\u001b[0m, in \u001b[0;36mModule._call_impl\u001b[0;34m(self, *input, **kwargs)\u001b[0m\n\u001b[1;32m   1186\u001b[0m \u001b[39m# If we don't have any hooks, we want to skip the rest of the logic in\u001b[39;00m\n\u001b[1;32m   1187\u001b[0m \u001b[39m# this function, and just call forward.\u001b[39;00m\n\u001b[1;32m   1188\u001b[0m \u001b[39mif\u001b[39;00m \u001b[39mnot\u001b[39;00m (\u001b[39mself\u001b[39m\u001b[39m.\u001b[39m_backward_hooks \u001b[39mor\u001b[39;00m \u001b[39mself\u001b[39m\u001b[39m.\u001b[39m_forward_hooks \u001b[39mor\u001b[39;00m \u001b[39mself\u001b[39m\u001b[39m.\u001b[39m_forward_pre_hooks \u001b[39mor\u001b[39;00m _global_backward_hooks\n\u001b[1;32m   1189\u001b[0m         \u001b[39mor\u001b[39;00m _global_forward_hooks \u001b[39mor\u001b[39;00m _global_forward_pre_hooks):\n\u001b[0;32m-> 1190\u001b[0m     \u001b[39mreturn\u001b[39;00m forward_call(\u001b[39m*\u001b[39;49m\u001b[39minput\u001b[39;49m, \u001b[39m*\u001b[39;49m\u001b[39m*\u001b[39;49mkwargs)\n\u001b[1;32m   1191\u001b[0m \u001b[39m# Do not call functions when jit is used\u001b[39;00m\n\u001b[1;32m   1192\u001b[0m full_backward_hooks, non_full_backward_hooks \u001b[39m=\u001b[39m [], []\n",
      "File \u001b[0;32m~/miniconda3/envs/pytorch/lib/python3.10/site-packages/torch/nn/parallel/data_parallel.py:171\u001b[0m, in \u001b[0;36mDataParallel.forward\u001b[0;34m(self, *inputs, **kwargs)\u001b[0m\n\u001b[1;32m    169\u001b[0m     \u001b[39mreturn\u001b[39;00m \u001b[39mself\u001b[39m\u001b[39m.\u001b[39mmodule(\u001b[39m*\u001b[39minputs[\u001b[39m0\u001b[39m], \u001b[39m*\u001b[39m\u001b[39m*\u001b[39mkwargs[\u001b[39m0\u001b[39m])\n\u001b[1;32m    170\u001b[0m replicas \u001b[39m=\u001b[39m \u001b[39mself\u001b[39m\u001b[39m.\u001b[39mreplicate(\u001b[39mself\u001b[39m\u001b[39m.\u001b[39mmodule, \u001b[39mself\u001b[39m\u001b[39m.\u001b[39mdevice_ids[:\u001b[39mlen\u001b[39m(inputs)])\n\u001b[0;32m--> 171\u001b[0m outputs \u001b[39m=\u001b[39m \u001b[39mself\u001b[39;49m\u001b[39m.\u001b[39;49mparallel_apply(replicas, inputs, kwargs)\n\u001b[1;32m    172\u001b[0m \u001b[39mreturn\u001b[39;00m \u001b[39mself\u001b[39m\u001b[39m.\u001b[39mgather(outputs, \u001b[39mself\u001b[39m\u001b[39m.\u001b[39moutput_device)\n",
      "File \u001b[0;32m~/miniconda3/envs/pytorch/lib/python3.10/site-packages/torch/nn/parallel/data_parallel.py:181\u001b[0m, in \u001b[0;36mDataParallel.parallel_apply\u001b[0;34m(self, replicas, inputs, kwargs)\u001b[0m\n\u001b[1;32m    180\u001b[0m \u001b[39mdef\u001b[39;00m \u001b[39mparallel_apply\u001b[39m(\u001b[39mself\u001b[39m, replicas, inputs, kwargs):\n\u001b[0;32m--> 181\u001b[0m     \u001b[39mreturn\u001b[39;00m parallel_apply(replicas, inputs, kwargs, \u001b[39mself\u001b[39;49m\u001b[39m.\u001b[39;49mdevice_ids[:\u001b[39mlen\u001b[39;49m(replicas)])\n",
      "File \u001b[0;32m~/miniconda3/envs/pytorch/lib/python3.10/site-packages/torch/nn/parallel/parallel_apply.py:89\u001b[0m, in \u001b[0;36mparallel_apply\u001b[0;34m(modules, inputs, kwargs_tup, devices)\u001b[0m\n\u001b[1;32m     87\u001b[0m     output \u001b[39m=\u001b[39m results[i]\n\u001b[1;32m     88\u001b[0m     \u001b[39mif\u001b[39;00m \u001b[39misinstance\u001b[39m(output, ExceptionWrapper):\n\u001b[0;32m---> 89\u001b[0m         output\u001b[39m.\u001b[39mreraise()\n\u001b[1;32m     90\u001b[0m     outputs\u001b[39m.\u001b[39mappend(output)\n\u001b[1;32m     91\u001b[0m \u001b[39mreturn\u001b[39;00m outputs\n",
      "File \u001b[0;32m~/miniconda3/envs/pytorch/lib/python3.10/site-packages/torch/_utils.py:543\u001b[0m, in \u001b[0;36mExceptionWrapper.reraise\u001b[0;34m(self)\u001b[0m\n\u001b[1;32m    539\u001b[0m \u001b[39mexcept\u001b[39;00m \u001b[39mTypeError\u001b[39;00m:\n\u001b[1;32m    540\u001b[0m     \u001b[39m# If the exception takes multiple arguments, don't try to\u001b[39;00m\n\u001b[1;32m    541\u001b[0m     \u001b[39m# instantiate since we don't know how to\u001b[39;00m\n\u001b[1;32m    542\u001b[0m     \u001b[39mraise\u001b[39;00m \u001b[39mRuntimeError\u001b[39;00m(msg) \u001b[39mfrom\u001b[39;00m \u001b[39mNone\u001b[39m\n\u001b[0;32m--> 543\u001b[0m \u001b[39mraise\u001b[39;00m exception\n",
      "\u001b[0;31mRuntimeError\u001b[0m: Caught RuntimeError in replica 0 on device 0.\nOriginal Traceback (most recent call last):\n  File \"/home2/anirudhkaushik/miniconda3/envs/pytorch/lib/python3.10/site-packages/torch/nn/parallel/parallel_apply.py\", line 64, in _worker\n    output = module(*input, **kwargs)\n  File \"/home2/anirudhkaushik/miniconda3/envs/pytorch/lib/python3.10/site-packages/torch/nn/modules/module.py\", line 1190, in _call_impl\n    return forward_call(*input, **kwargs)\n  File \"/tmp/ipykernel_4641/3276073437.py\", line 11, in forward\n    x = F.relu(self.fc1(x))\n  File \"/home2/anirudhkaushik/miniconda3/envs/pytorch/lib/python3.10/site-packages/torch/nn/modules/module.py\", line 1190, in _call_impl\n    return forward_call(*input, **kwargs)\n  File \"/home2/anirudhkaushik/miniconda3/envs/pytorch/lib/python3.10/site-packages/torch/nn/modules/linear.py\", line 114, in forward\n    return F.linear(input, self.weight, self.bias)\nRuntimeError: mat1 and mat2 shapes cannot be multiplied (8192x16 and 17x64)\n"
     ]
    }
   ],
   "source": [
    "model = Classifier()\n",
    "criterion = nn.BCELoss()\n",
    "optimizer = torch.optim.Adam(model.parameters(), lr=0.001)\n",
    "\n",
    "model = model.to(device)\n",
    "if torch.cuda.device_count() > 1:\n",
    "    print(\"Let's use\", torch.cuda.device_count(), \"GPUs!\")\n",
    "    model = nn.DataParallel(model)\n",
    "\n",
    "acc_curve, loss_curve = train(model, trainloader, testloader, criterion, optimizer, epochs=5)\n",
    "plt.subplot(2,1,1)\n",
    "plt.title(\"Loss Curve\")\n",
    "plt.plot(loss_curve)\n",
    "plt.subplot(2,1,2)\n",
    "plt.title(\"Accuracy Curve\")\n",
    "plt.plot(acc_curve)\n",
    "plt.show()"
   ]
  },
  {
   "cell_type": "code",
   "execution_count": null,
   "metadata": {},
   "outputs": [],
   "source": []
  }
 ],
 "metadata": {
  "kernelspec": {
   "display_name": "pytorch",
   "language": "python",
   "name": "python3"
  },
  "language_info": {
   "codemirror_mode": {
    "name": "ipython",
    "version": 3
   },
   "file_extension": ".py",
   "mimetype": "text/x-python",
   "name": "python",
   "nbconvert_exporter": "python",
   "pygments_lexer": "ipython3",
   "version": "3.10.9"
  },
  "orig_nbformat": 4
 },
 "nbformat": 4,
 "nbformat_minor": 2
}
